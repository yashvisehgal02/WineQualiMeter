{
 "cells": [
  {
   "cell_type": "code",
   "execution_count": 1,
   "id": "aa19d90b",
   "metadata": {},
   "outputs": [],
   "source": [
    "import pandas as pd\n",
    "import numpy as np\n",
    "import seaborn as sns\n",
    "import matplotlib.pyplot as plt\n",
    "from sklearn.preprocessing import StandardScaler\n",
    "from statsmodels.stats.outliers_influence import variance_inflation_factor\n",
    "from sklearn.model_selection import train_test_split\n",
    "from sklearn.metrics import confusion_matrix , classification_report , accuracy_score , precision_score , recall_score , f1_score\n",
    "from sklearn.tree import DecisionTreeClassifier\n",
    "from sklearn.ensemble import RandomForestClassifier\n",
    "from sklearn.svm import SVC\n",
    "from imblearn.over_sampling import SMOTE\n",
    "import warnings\n",
    "warnings.filterwarnings(\"ignore\")"
   ]
  },
  {
   "cell_type": "markdown",
   "id": "0da0c1fa",
   "metadata": {},
   "source": [
    "# 1. Data loading and exploration: \n",
    "#### The code reads a CSV file into a pandas DataFrame (df) and performs basic exploratory data analysis (EDA) using various DataFrame methods, such as head(), shape, describe(), isnull().sum(), and info(). It also checks for and drops any duplicate rows in the DataFrame.\n"
   ]
  },
  {
   "cell_type": "code",
   "execution_count": 2,
   "id": "572368f9",
   "metadata": {},
   "outputs": [],
   "source": [
    "# Load the dataset\n",
    "df = pd.read_csv('/Users/sarthaksangwan/Desktop/data mining project/winequality-white.csv')"
   ]
  },
  {
   "cell_type": "code",
   "execution_count": 3,
   "id": "6e8036c3",
   "metadata": {
    "scrolled": true
   },
   "outputs": [
    {
     "data": {
      "text/html": [
       "<div>\n",
       "<style scoped>\n",
       "    .dataframe tbody tr th:only-of-type {\n",
       "        vertical-align: middle;\n",
       "    }\n",
       "\n",
       "    .dataframe tbody tr th {\n",
       "        vertical-align: top;\n",
       "    }\n",
       "\n",
       "    .dataframe thead th {\n",
       "        text-align: right;\n",
       "    }\n",
       "</style>\n",
       "<table border=\"1\" class=\"dataframe\">\n",
       "  <thead>\n",
       "    <tr style=\"text-align: right;\">\n",
       "      <th></th>\n",
       "      <th>fixed acidity</th>\n",
       "      <th>volatile acidity</th>\n",
       "      <th>citric acid</th>\n",
       "      <th>residual sugar</th>\n",
       "      <th>chlorides</th>\n",
       "      <th>free sulfur dioxide</th>\n",
       "      <th>total sulfur dioxide</th>\n",
       "      <th>density</th>\n",
       "      <th>pH</th>\n",
       "      <th>sulphates</th>\n",
       "      <th>alcohol</th>\n",
       "      <th>quality</th>\n",
       "    </tr>\n",
       "  </thead>\n",
       "  <tbody>\n",
       "    <tr>\n",
       "      <th>0</th>\n",
       "      <td>7.0</td>\n",
       "      <td>0.27</td>\n",
       "      <td>0.36</td>\n",
       "      <td>20.7</td>\n",
       "      <td>0.045</td>\n",
       "      <td>45.0</td>\n",
       "      <td>170.0</td>\n",
       "      <td>1.0010</td>\n",
       "      <td>3.00</td>\n",
       "      <td>0.45</td>\n",
       "      <td>8.8</td>\n",
       "      <td>6</td>\n",
       "    </tr>\n",
       "    <tr>\n",
       "      <th>1</th>\n",
       "      <td>6.3</td>\n",
       "      <td>0.30</td>\n",
       "      <td>0.34</td>\n",
       "      <td>1.6</td>\n",
       "      <td>0.049</td>\n",
       "      <td>14.0</td>\n",
       "      <td>132.0</td>\n",
       "      <td>0.9940</td>\n",
       "      <td>3.30</td>\n",
       "      <td>0.49</td>\n",
       "      <td>9.5</td>\n",
       "      <td>6</td>\n",
       "    </tr>\n",
       "    <tr>\n",
       "      <th>2</th>\n",
       "      <td>8.1</td>\n",
       "      <td>0.28</td>\n",
       "      <td>0.40</td>\n",
       "      <td>6.9</td>\n",
       "      <td>0.050</td>\n",
       "      <td>30.0</td>\n",
       "      <td>97.0</td>\n",
       "      <td>0.9951</td>\n",
       "      <td>3.26</td>\n",
       "      <td>0.44</td>\n",
       "      <td>10.1</td>\n",
       "      <td>6</td>\n",
       "    </tr>\n",
       "    <tr>\n",
       "      <th>3</th>\n",
       "      <td>7.2</td>\n",
       "      <td>0.23</td>\n",
       "      <td>0.32</td>\n",
       "      <td>8.5</td>\n",
       "      <td>0.058</td>\n",
       "      <td>47.0</td>\n",
       "      <td>186.0</td>\n",
       "      <td>0.9956</td>\n",
       "      <td>3.19</td>\n",
       "      <td>0.40</td>\n",
       "      <td>9.9</td>\n",
       "      <td>6</td>\n",
       "    </tr>\n",
       "    <tr>\n",
       "      <th>4</th>\n",
       "      <td>7.2</td>\n",
       "      <td>0.23</td>\n",
       "      <td>0.32</td>\n",
       "      <td>8.5</td>\n",
       "      <td>0.058</td>\n",
       "      <td>47.0</td>\n",
       "      <td>186.0</td>\n",
       "      <td>0.9956</td>\n",
       "      <td>3.19</td>\n",
       "      <td>0.40</td>\n",
       "      <td>9.9</td>\n",
       "      <td>6</td>\n",
       "    </tr>\n",
       "  </tbody>\n",
       "</table>\n",
       "</div>"
      ],
      "text/plain": [
       "   fixed acidity  volatile acidity  citric acid  residual sugar  chlorides  \\\n",
       "0            7.0              0.27         0.36            20.7      0.045   \n",
       "1            6.3              0.30         0.34             1.6      0.049   \n",
       "2            8.1              0.28         0.40             6.9      0.050   \n",
       "3            7.2              0.23         0.32             8.5      0.058   \n",
       "4            7.2              0.23         0.32             8.5      0.058   \n",
       "\n",
       "   free sulfur dioxide  total sulfur dioxide  density    pH  sulphates  \\\n",
       "0                 45.0                 170.0   1.0010  3.00       0.45   \n",
       "1                 14.0                 132.0   0.9940  3.30       0.49   \n",
       "2                 30.0                  97.0   0.9951  3.26       0.44   \n",
       "3                 47.0                 186.0   0.9956  3.19       0.40   \n",
       "4                 47.0                 186.0   0.9956  3.19       0.40   \n",
       "\n",
       "   alcohol  quality  \n",
       "0      8.8        6  \n",
       "1      9.5        6  \n",
       "2     10.1        6  \n",
       "3      9.9        6  \n",
       "4      9.9        6  "
      ]
     },
     "execution_count": 3,
     "metadata": {},
     "output_type": "execute_result"
    }
   ],
   "source": [
    "# Display first few rows of the dataset\n",
    "df.head()"
   ]
  },
  {
   "cell_type": "code",
   "execution_count": 4,
   "id": "e9caf840",
   "metadata": {},
   "outputs": [
    {
     "name": "stdout",
     "output_type": "stream",
     "text": [
      "Shape of the dataset: (4898, 12)\n"
     ]
    }
   ],
   "source": [
    "# Display shape of the dataset\n",
    "print(\"Shape of the dataset:\", df.shape)"
   ]
  },
  {
   "cell_type": "code",
   "execution_count": 5,
   "id": "ef21baad",
   "metadata": {},
   "outputs": [
    {
     "name": "stdout",
     "output_type": "stream",
     "text": [
      "Statistical summary of the dataset:\n"
     ]
    },
    {
     "data": {
      "text/html": [
       "<div>\n",
       "<style scoped>\n",
       "    .dataframe tbody tr th:only-of-type {\n",
       "        vertical-align: middle;\n",
       "    }\n",
       "\n",
       "    .dataframe tbody tr th {\n",
       "        vertical-align: top;\n",
       "    }\n",
       "\n",
       "    .dataframe thead th {\n",
       "        text-align: right;\n",
       "    }\n",
       "</style>\n",
       "<table border=\"1\" class=\"dataframe\">\n",
       "  <thead>\n",
       "    <tr style=\"text-align: right;\">\n",
       "      <th></th>\n",
       "      <th>fixed acidity</th>\n",
       "      <th>volatile acidity</th>\n",
       "      <th>citric acid</th>\n",
       "      <th>residual sugar</th>\n",
       "      <th>chlorides</th>\n",
       "      <th>free sulfur dioxide</th>\n",
       "      <th>total sulfur dioxide</th>\n",
       "      <th>density</th>\n",
       "      <th>pH</th>\n",
       "      <th>sulphates</th>\n",
       "      <th>alcohol</th>\n",
       "      <th>quality</th>\n",
       "    </tr>\n",
       "  </thead>\n",
       "  <tbody>\n",
       "    <tr>\n",
       "      <th>count</th>\n",
       "      <td>4898.000000</td>\n",
       "      <td>4898.000000</td>\n",
       "      <td>4898.000000</td>\n",
       "      <td>4898.000000</td>\n",
       "      <td>4898.000000</td>\n",
       "      <td>4898.000000</td>\n",
       "      <td>4898.000000</td>\n",
       "      <td>4898.000000</td>\n",
       "      <td>4898.000000</td>\n",
       "      <td>4898.000000</td>\n",
       "      <td>4898.000000</td>\n",
       "      <td>4898.000000</td>\n",
       "    </tr>\n",
       "    <tr>\n",
       "      <th>mean</th>\n",
       "      <td>6.854788</td>\n",
       "      <td>0.278241</td>\n",
       "      <td>0.334192</td>\n",
       "      <td>6.391415</td>\n",
       "      <td>0.045772</td>\n",
       "      <td>35.308085</td>\n",
       "      <td>138.360657</td>\n",
       "      <td>0.994027</td>\n",
       "      <td>3.188267</td>\n",
       "      <td>0.489847</td>\n",
       "      <td>10.514267</td>\n",
       "      <td>5.877909</td>\n",
       "    </tr>\n",
       "    <tr>\n",
       "      <th>std</th>\n",
       "      <td>0.843868</td>\n",
       "      <td>0.100795</td>\n",
       "      <td>0.121020</td>\n",
       "      <td>5.072058</td>\n",
       "      <td>0.021848</td>\n",
       "      <td>17.007137</td>\n",
       "      <td>42.498065</td>\n",
       "      <td>0.002991</td>\n",
       "      <td>0.151001</td>\n",
       "      <td>0.114126</td>\n",
       "      <td>1.230621</td>\n",
       "      <td>0.885639</td>\n",
       "    </tr>\n",
       "    <tr>\n",
       "      <th>min</th>\n",
       "      <td>3.800000</td>\n",
       "      <td>0.080000</td>\n",
       "      <td>0.000000</td>\n",
       "      <td>0.600000</td>\n",
       "      <td>0.009000</td>\n",
       "      <td>2.000000</td>\n",
       "      <td>9.000000</td>\n",
       "      <td>0.987110</td>\n",
       "      <td>2.720000</td>\n",
       "      <td>0.220000</td>\n",
       "      <td>8.000000</td>\n",
       "      <td>3.000000</td>\n",
       "    </tr>\n",
       "    <tr>\n",
       "      <th>25%</th>\n",
       "      <td>6.300000</td>\n",
       "      <td>0.210000</td>\n",
       "      <td>0.270000</td>\n",
       "      <td>1.700000</td>\n",
       "      <td>0.036000</td>\n",
       "      <td>23.000000</td>\n",
       "      <td>108.000000</td>\n",
       "      <td>0.991723</td>\n",
       "      <td>3.090000</td>\n",
       "      <td>0.410000</td>\n",
       "      <td>9.500000</td>\n",
       "      <td>5.000000</td>\n",
       "    </tr>\n",
       "    <tr>\n",
       "      <th>50%</th>\n",
       "      <td>6.800000</td>\n",
       "      <td>0.260000</td>\n",
       "      <td>0.320000</td>\n",
       "      <td>5.200000</td>\n",
       "      <td>0.043000</td>\n",
       "      <td>34.000000</td>\n",
       "      <td>134.000000</td>\n",
       "      <td>0.993740</td>\n",
       "      <td>3.180000</td>\n",
       "      <td>0.470000</td>\n",
       "      <td>10.400000</td>\n",
       "      <td>6.000000</td>\n",
       "    </tr>\n",
       "    <tr>\n",
       "      <th>75%</th>\n",
       "      <td>7.300000</td>\n",
       "      <td>0.320000</td>\n",
       "      <td>0.390000</td>\n",
       "      <td>9.900000</td>\n",
       "      <td>0.050000</td>\n",
       "      <td>46.000000</td>\n",
       "      <td>167.000000</td>\n",
       "      <td>0.996100</td>\n",
       "      <td>3.280000</td>\n",
       "      <td>0.550000</td>\n",
       "      <td>11.400000</td>\n",
       "      <td>6.000000</td>\n",
       "    </tr>\n",
       "    <tr>\n",
       "      <th>max</th>\n",
       "      <td>14.200000</td>\n",
       "      <td>1.100000</td>\n",
       "      <td>1.660000</td>\n",
       "      <td>65.800000</td>\n",
       "      <td>0.346000</td>\n",
       "      <td>289.000000</td>\n",
       "      <td>440.000000</td>\n",
       "      <td>1.038980</td>\n",
       "      <td>3.820000</td>\n",
       "      <td>1.080000</td>\n",
       "      <td>14.200000</td>\n",
       "      <td>9.000000</td>\n",
       "    </tr>\n",
       "  </tbody>\n",
       "</table>\n",
       "</div>"
      ],
      "text/plain": [
       "       fixed acidity  volatile acidity  citric acid  residual sugar  \\\n",
       "count    4898.000000       4898.000000  4898.000000     4898.000000   \n",
       "mean        6.854788          0.278241     0.334192        6.391415   \n",
       "std         0.843868          0.100795     0.121020        5.072058   \n",
       "min         3.800000          0.080000     0.000000        0.600000   \n",
       "25%         6.300000          0.210000     0.270000        1.700000   \n",
       "50%         6.800000          0.260000     0.320000        5.200000   \n",
       "75%         7.300000          0.320000     0.390000        9.900000   \n",
       "max        14.200000          1.100000     1.660000       65.800000   \n",
       "\n",
       "         chlorides  free sulfur dioxide  total sulfur dioxide      density  \\\n",
       "count  4898.000000          4898.000000           4898.000000  4898.000000   \n",
       "mean      0.045772            35.308085            138.360657     0.994027   \n",
       "std       0.021848            17.007137             42.498065     0.002991   \n",
       "min       0.009000             2.000000              9.000000     0.987110   \n",
       "25%       0.036000            23.000000            108.000000     0.991723   \n",
       "50%       0.043000            34.000000            134.000000     0.993740   \n",
       "75%       0.050000            46.000000            167.000000     0.996100   \n",
       "max       0.346000           289.000000            440.000000     1.038980   \n",
       "\n",
       "                pH    sulphates      alcohol      quality  \n",
       "count  4898.000000  4898.000000  4898.000000  4898.000000  \n",
       "mean      3.188267     0.489847    10.514267     5.877909  \n",
       "std       0.151001     0.114126     1.230621     0.885639  \n",
       "min       2.720000     0.220000     8.000000     3.000000  \n",
       "25%       3.090000     0.410000     9.500000     5.000000  \n",
       "50%       3.180000     0.470000    10.400000     6.000000  \n",
       "75%       3.280000     0.550000    11.400000     6.000000  \n",
       "max       3.820000     1.080000    14.200000     9.000000  "
      ]
     },
     "execution_count": 5,
     "metadata": {},
     "output_type": "execute_result"
    }
   ],
   "source": [
    "# Display statistical summary of the dataset\n",
    "print(\"Statistical summary of the dataset:\")\n",
    "df.describe()"
   ]
  },
  {
   "cell_type": "code",
   "execution_count": 6,
   "id": "1a3bce29",
   "metadata": {},
   "outputs": [
    {
     "name": "stdout",
     "output_type": "stream",
     "text": [
      "Missing values in the dataset:\n",
      "fixed acidity           0\n",
      "volatile acidity        0\n",
      "citric acid             0\n",
      "residual sugar          0\n",
      "chlorides               0\n",
      "free sulfur dioxide     0\n",
      "total sulfur dioxide    0\n",
      "density                 0\n",
      "pH                      0\n",
      "sulphates               0\n",
      "alcohol                 0\n",
      "quality                 0\n",
      "dtype: int64\n"
     ]
    }
   ],
   "source": [
    "# Check for missing values in the dataset\n",
    "print(\"Missing values in the dataset:\")\n",
    "print(df.isnull().sum())"
   ]
  },
  {
   "cell_type": "code",
   "execution_count": 7,
   "id": "3880b6ec",
   "metadata": {},
   "outputs": [
    {
     "name": "stdout",
     "output_type": "stream",
     "text": [
      "Information about the dataset:\n",
      "<class 'pandas.core.frame.DataFrame'>\n",
      "RangeIndex: 4898 entries, 0 to 4897\n",
      "Data columns (total 12 columns):\n",
      " #   Column                Non-Null Count  Dtype  \n",
      "---  ------                --------------  -----  \n",
      " 0   fixed acidity         4898 non-null   float64\n",
      " 1   volatile acidity      4898 non-null   float64\n",
      " 2   citric acid           4898 non-null   float64\n",
      " 3   residual sugar        4898 non-null   float64\n",
      " 4   chlorides             4898 non-null   float64\n",
      " 5   free sulfur dioxide   4898 non-null   float64\n",
      " 6   total sulfur dioxide  4898 non-null   float64\n",
      " 7   density               4898 non-null   float64\n",
      " 8   pH                    4898 non-null   float64\n",
      " 9   sulphates             4898 non-null   float64\n",
      " 10  alcohol               4898 non-null   float64\n",
      " 11  quality               4898 non-null   int64  \n",
      "dtypes: float64(11), int64(1)\n",
      "memory usage: 459.3 KB\n"
     ]
    }
   ],
   "source": [
    "# Display information about the dataset\n",
    "print(\"Information about the dataset:\")\n",
    "df.info()"
   ]
  },
  {
   "cell_type": "code",
   "execution_count": 8,
   "id": "658f8d02",
   "metadata": {},
   "outputs": [
    {
     "name": "stdout",
     "output_type": "stream",
     "text": [
      "Number of duplicate rows: 937\n"
     ]
    }
   ],
   "source": [
    "# Drop duplicates in the dataset\n",
    "duplicate = df.duplicated()\n",
    "print(\"Number of duplicate rows:\", duplicate.sum())"
   ]
  },
  {
   "cell_type": "code",
   "execution_count": 9,
   "id": "4af781a4",
   "metadata": {},
   "outputs": [
    {
     "name": "stdout",
     "output_type": "stream",
     "text": [
      "Shape of the dataset after dropping duplicates: (3961, 12)\n"
     ]
    }
   ],
   "source": [
    "df.drop_duplicates(inplace=True)\n",
    "print(\"Shape of the dataset after dropping duplicates:\", df.shape)"
   ]
  },
  {
   "cell_type": "markdown",
   "id": "4d42e549",
   "metadata": {},
   "source": [
    "# 2. Data visualization: \n",
    "#### The code uses seaborn and matplotlib libraries to create visualizations of the data, such as a countplot for the distribution of the target variable (quality) and a heatmap for the correlation matrix of the features.\n"
   ]
  },
  {
   "cell_type": "code",
   "execution_count": 10,
   "id": "4791776e",
   "metadata": {
    "scrolled": false
   },
   "outputs": [
    {
     "name": "stdout",
     "output_type": "stream",
     "text": [
      "Counts of each target class:\n",
      "6    1788\n",
      "5    1175\n",
      "7     689\n",
      "4     153\n",
      "8     131\n",
      "3      20\n",
      "9       5\n",
      "Name: quality, dtype: int64\n"
     ]
    },
    {
     "data": {
      "image/png": "[encoded data removed]",
      "text/plain": [
       "<Figure size 432x288 with 1 Axes>"
      ]
     },
     "metadata": {
      "needs_background": "light"
     },
     "output_type": "display_data"
    }
   ],
   "source": [
    "# Visualize the distribution of target variable\n",
    "print(\"Counts of each target class:\")\n",
    "print(df.quality.value_counts())\n",
    "sns.countplot(df['quality'])\n",
    "plt.grid()"
   ]
  },
  {
   "cell_type": "code",
   "execution_count": 11,
   "id": "56556fee",
   "metadata": {},
   "outputs": [
    {
     "name": "stdout",
     "output_type": "stream",
     "text": [
      "Counts of each target class:\n",
      "6    1788\n",
      "5    1175\n",
      "7     689\n",
      "4     153\n",
      "8     131\n",
      "3      20\n",
      "9       5\n",
      "Name: quality, dtype: int64\n"
     ]
    },
    {
     "data": {
      "image/png": "[encoded data removed]",
      "text/plain": [
       "<Figure size 576x432 with 1 Axes>"
      ]
     },
     "metadata": {},
     "output_type": "display_data"
    }
   ],
   "source": [
    "# Print counts of each target class\n",
    "print(\"Counts of each target class:\")\n",
    "print(df.quality.value_counts())\n",
    "\n",
    "# Plot pie chart of target variable distribution\n",
    "plt.figure(figsize=(8, 6))\n",
    "labels = df.quality.value_counts().index\n",
    "values = df.quality.value_counts().values\n",
    "plt.pie(values, labels=labels, startangle=90)\n",
    "plt.title(\"Distribution of Target Variable (Wine Quality)\")\n",
    "plt.show()"
   ]
  },
  {
   "cell_type": "code",
   "execution_count": 12,
   "id": "5249042e",
   "metadata": {},
   "outputs": [],
   "source": [
    "# Calculate correlation matrix\n",
    "corr = df.corr()"
   ]
  },
  {
   "cell_type": "code",
   "execution_count": 13,
   "id": "ad8b73b9",
   "metadata": {},
   "outputs": [
    {
     "data": {
      "text/plain": [
       "<AxesSubplot:>"
      ]
     },
     "execution_count": 13,
     "metadata": {},
     "output_type": "execute_result"
    },
    {
     "data": {
      "image/png": "[encoded data removed]",
      "text/plain": [
       "<Figure size 1440x720 with 2 Axes>"
      ]
     },
     "metadata": {
      "needs_background": "light"
     },
     "output_type": "display_data"
    }
   ],
   "source": [
    "# Visualize correlation matrix using heatmap\n",
    "plt.figure(figsize=(20, 10))\n",
    "sns.heatmap(corr, annot=True, cmap='coolwarm')"
   ]
  },
  {
   "cell_type": "markdown",
   "id": "d3d52f28",
   "metadata": {},
   "source": [
    "# 3. Data preprocessing: \n",
    "#### The code performs data preprocessing tasks such as standardization of the features using the StandardScaler from scikit-learn, and calculates variance inflation factor (VIF) for feature selection.\n"
   ]
  },
  {
   "cell_type": "code",
   "execution_count": 14,
   "id": "3b01954d",
   "metadata": {},
   "outputs": [],
   "source": [
    "# Preprocess the data for machine learning\n",
    "target_name = 'quality'\n",
    "y = df[target_name]\n",
    "x = df.drop(target_name, axis=1)"
   ]
  },
  {
   "cell_type": "code",
   "execution_count": 15,
   "id": "4eda9863",
   "metadata": {},
   "outputs": [
    {
     "data": {
      "text/html": [
       "<div>\n",
       "<style scoped>\n",
       "    .dataframe tbody tr th:only-of-type {\n",
       "        vertical-align: middle;\n",
       "    }\n",
       "\n",
       "    .dataframe tbody tr th {\n",
       "        vertical-align: top;\n",
       "    }\n",
       "\n",
       "    .dataframe thead th {\n",
       "        text-align: right;\n",
       "    }\n",
       "</style>\n",
       "<table border=\"1\" class=\"dataframe\">\n",
       "  <thead>\n",
       "    <tr style=\"text-align: right;\">\n",
       "      <th></th>\n",
       "      <th>fixed acidity</th>\n",
       "      <th>volatile acidity</th>\n",
       "      <th>citric acid</th>\n",
       "      <th>residual sugar</th>\n",
       "      <th>chlorides</th>\n",
       "      <th>free sulfur dioxide</th>\n",
       "      <th>total sulfur dioxide</th>\n",
       "      <th>density</th>\n",
       "      <th>pH</th>\n",
       "      <th>sulphates</th>\n",
       "      <th>alcohol</th>\n",
       "    </tr>\n",
       "  </thead>\n",
       "  <tbody>\n",
       "    <tr>\n",
       "      <th>0</th>\n",
       "      <td>7.0</td>\n",
       "      <td>0.27</td>\n",
       "      <td>0.36</td>\n",
       "      <td>20.7</td>\n",
       "      <td>0.045</td>\n",
       "      <td>45.0</td>\n",
       "      <td>170.0</td>\n",
       "      <td>1.0010</td>\n",
       "      <td>3.00</td>\n",
       "      <td>0.45</td>\n",
       "      <td>8.8</td>\n",
       "    </tr>\n",
       "    <tr>\n",
       "      <th>1</th>\n",
       "      <td>6.3</td>\n",
       "      <td>0.30</td>\n",
       "      <td>0.34</td>\n",
       "      <td>1.6</td>\n",
       "      <td>0.049</td>\n",
       "      <td>14.0</td>\n",
       "      <td>132.0</td>\n",
       "      <td>0.9940</td>\n",
       "      <td>3.30</td>\n",
       "      <td>0.49</td>\n",
       "      <td>9.5</td>\n",
       "    </tr>\n",
       "    <tr>\n",
       "      <th>2</th>\n",
       "      <td>8.1</td>\n",
       "      <td>0.28</td>\n",
       "      <td>0.40</td>\n",
       "      <td>6.9</td>\n",
       "      <td>0.050</td>\n",
       "      <td>30.0</td>\n",
       "      <td>97.0</td>\n",
       "      <td>0.9951</td>\n",
       "      <td>3.26</td>\n",
       "      <td>0.44</td>\n",
       "      <td>10.1</td>\n",
       "    </tr>\n",
       "    <tr>\n",
       "      <th>3</th>\n",
       "      <td>7.2</td>\n",
       "      <td>0.23</td>\n",
       "      <td>0.32</td>\n",
       "      <td>8.5</td>\n",
       "      <td>0.058</td>\n",
       "      <td>47.0</td>\n",
       "      <td>186.0</td>\n",
       "      <td>0.9956</td>\n",
       "      <td>3.19</td>\n",
       "      <td>0.40</td>\n",
       "      <td>9.9</td>\n",
       "    </tr>\n",
       "    <tr>\n",
       "      <th>6</th>\n",
       "      <td>6.2</td>\n",
       "      <td>0.32</td>\n",
       "      <td>0.16</td>\n",
       "      <td>7.0</td>\n",
       "      <td>0.045</td>\n",
       "      <td>30.0</td>\n",
       "      <td>136.0</td>\n",
       "      <td>0.9949</td>\n",
       "      <td>3.18</td>\n",
       "      <td>0.47</td>\n",
       "      <td>9.6</td>\n",
       "    </tr>\n",
       "  </tbody>\n",
       "</table>\n",
       "</div>"
      ],
      "text/plain": [
       "   fixed acidity  volatile acidity  citric acid  residual sugar  chlorides  \\\n",
       "0            7.0              0.27         0.36            20.7      0.045   \n",
       "1            6.3              0.30         0.34             1.6      0.049   \n",
       "2            8.1              0.28         0.40             6.9      0.050   \n",
       "3            7.2              0.23         0.32             8.5      0.058   \n",
       "6            6.2              0.32         0.16             7.0      0.045   \n",
       "\n",
       "   free sulfur dioxide  total sulfur dioxide  density    pH  sulphates  \\\n",
       "0                 45.0                 170.0   1.0010  3.00       0.45   \n",
       "1                 14.0                 132.0   0.9940  3.30       0.49   \n",
       "2                 30.0                  97.0   0.9951  3.26       0.44   \n",
       "3                 47.0                 186.0   0.9956  3.19       0.40   \n",
       "6                 30.0                 136.0   0.9949  3.18       0.47   \n",
       "\n",
       "   alcohol  \n",
       "0      8.8  \n",
       "1      9.5  \n",
       "2     10.1  \n",
       "3      9.9  \n",
       "6      9.6  "
      ]
     },
     "execution_count": 15,
     "metadata": {},
     "output_type": "execute_result"
    }
   ],
   "source": [
    "x.head()"
   ]
  },
  {
   "cell_type": "code",
   "execution_count": 16,
   "id": "172d4bea",
   "metadata": {},
   "outputs": [
    {
     "data": {
      "text/plain": [
       "(3961, 11)"
      ]
     },
     "execution_count": 16,
     "metadata": {},
     "output_type": "execute_result"
    }
   ],
   "source": [
    "x.shape"
   ]
  },
  {
   "cell_type": "code",
   "execution_count": 17,
   "id": "ad8f4328",
   "metadata": {},
   "outputs": [
    {
     "data": {
      "text/plain": [
       "0    6\n",
       "1    6\n",
       "2    6\n",
       "3    6\n",
       "6    6\n",
       "Name: quality, dtype: int64"
      ]
     },
     "execution_count": 17,
     "metadata": {},
     "output_type": "execute_result"
    }
   ],
   "source": [
    "y.head()"
   ]
  },
  {
   "cell_type": "code",
   "execution_count": 18,
   "id": "1e35d0ae",
   "metadata": {},
   "outputs": [
    {
     "data": {
      "text/plain": [
       "(3961,)"
      ]
     },
     "execution_count": 18,
     "metadata": {},
     "output_type": "execute_result"
    }
   ],
   "source": [
    "y.shape"
   ]
  },
  {
   "cell_type": "code",
   "execution_count": 19,
   "id": "7b6c32a4",
   "metadata": {},
   "outputs": [],
   "source": [
    "# Perform standard scaling on the feature variables\n",
    "sc = StandardScaler()\n",
    "x_res = sc.fit_transform(x)"
   ]
  },
  {
   "cell_type": "code",
   "execution_count": 20,
   "id": "2ab512ba",
   "metadata": {},
   "outputs": [],
   "source": [
    "# Calculate variance inflation factor (VIF) for each feature\n",
    "vif = pd.DataFrame()\n",
    "vif[\"VIF Factor\"] = [variance_inflation_factor(x_res, i) for i in range(x_res.shape[1])]\n",
    "vif[\"features\"] = x.columns"
   ]
  },
  {
   "cell_type": "code",
   "execution_count": 21,
   "id": "f6d0d40d",
   "metadata": {},
   "outputs": [
    {
     "name": "stdout",
     "output_type": "stream",
     "text": [
      "Variance Inflation Factor (VIF):\n"
     ]
    },
    {
     "data": {
      "text/html": [
       "<div>\n",
       "<style scoped>\n",
       "    .dataframe tbody tr th:only-of-type {\n",
       "        vertical-align: middle;\n",
       "    }\n",
       "\n",
       "    .dataframe tbody tr th {\n",
       "        vertical-align: top;\n",
       "    }\n",
       "\n",
       "    .dataframe thead th {\n",
       "        text-align: right;\n",
       "    }\n",
       "</style>\n",
       "<table border=\"1\" class=\"dataframe\">\n",
       "  <thead>\n",
       "    <tr style=\"text-align: right;\">\n",
       "      <th></th>\n",
       "      <th>VIF Factor</th>\n",
       "      <th>features</th>\n",
       "    </tr>\n",
       "  </thead>\n",
       "  <tbody>\n",
       "    <tr>\n",
       "      <th>0</th>\n",
       "      <td>2.644238</td>\n",
       "      <td>fixed acidity</td>\n",
       "    </tr>\n",
       "    <tr>\n",
       "      <th>1</th>\n",
       "      <td>1.172168</td>\n",
       "      <td>volatile acidity</td>\n",
       "    </tr>\n",
       "    <tr>\n",
       "      <th>2</th>\n",
       "      <td>1.192301</td>\n",
       "      <td>citric acid</td>\n",
       "    </tr>\n",
       "    <tr>\n",
       "      <th>3</th>\n",
       "      <td>10.987021</td>\n",
       "      <td>residual sugar</td>\n",
       "    </tr>\n",
       "    <tr>\n",
       "      <th>4</th>\n",
       "      <td>1.239417</td>\n",
       "      <td>chlorides</td>\n",
       "    </tr>\n",
       "    <tr>\n",
       "      <th>5</th>\n",
       "      <td>1.827707</td>\n",
       "      <td>free sulfur dioxide</td>\n",
       "    </tr>\n",
       "    <tr>\n",
       "      <th>6</th>\n",
       "      <td>2.278000</td>\n",
       "      <td>total sulfur dioxide</td>\n",
       "    </tr>\n",
       "    <tr>\n",
       "      <th>7</th>\n",
       "      <td>24.403171</td>\n",
       "      <td>density</td>\n",
       "    </tr>\n",
       "    <tr>\n",
       "      <th>8</th>\n",
       "      <td>2.132322</td>\n",
       "      <td>pH</td>\n",
       "    </tr>\n",
       "    <tr>\n",
       "      <th>9</th>\n",
       "      <td>1.127718</td>\n",
       "      <td>sulphates</td>\n",
       "    </tr>\n",
       "    <tr>\n",
       "      <th>10</th>\n",
       "      <td>7.045509</td>\n",
       "      <td>alcohol</td>\n",
       "    </tr>\n",
       "  </tbody>\n",
       "</table>\n",
       "</div>"
      ],
      "text/plain": [
       "    VIF Factor              features\n",
       "0     2.644238         fixed acidity\n",
       "1     1.172168      volatile acidity\n",
       "2     1.192301           citric acid\n",
       "3    10.987021        residual sugar\n",
       "4     1.239417             chlorides\n",
       "5     1.827707   free sulfur dioxide\n",
       "6     2.278000  total sulfur dioxide\n",
       "7    24.403171               density\n",
       "8     2.132322                    pH\n",
       "9     1.127718             sulphates\n",
       "10    7.045509               alcohol"
      ]
     },
     "execution_count": 21,
     "metadata": {},
     "output_type": "execute_result"
    }
   ],
   "source": [
    "# Display VIF for each feature\n",
    "print(\"Variance Inflation Factor (VIF):\")\n",
    "pd.DataFrame(vif)"
   ]
  },
  {
   "cell_type": "code",
   "execution_count": 22,
   "id": "4b13f7a5",
   "metadata": {},
   "outputs": [
    {
     "data": {
      "text/plain": [
       "(3961, 11)"
      ]
     },
     "execution_count": 22,
     "metadata": {},
     "output_type": "execute_result"
    }
   ],
   "source": [
    "x_res.shape"
   ]
  },
  {
   "cell_type": "code",
   "execution_count": 23,
   "id": "65a9dfe7",
   "metadata": {},
   "outputs": [],
   "source": [
    "# Add 'residual sugar_density' column\n",
    "df['residual sugar_density'] = df['residual sugar'] + df['density']\n",
    "# Drop 'residual sugar' and 'density' columns\n",
    "df = df.drop('residual sugar', axis=1)\n",
    "df = df.drop('density', axis=1)\n",
    "# Rearrange column order\n",
    "cols = df.columns.tolist()\n",
    "col_idx = cols.index('residual sugar_density')\n",
    "cols = cols[:4] + [cols[col_idx]] + cols[4:col_idx] + cols[col_idx + 1:]\n",
    "df = df[cols]"
   ]
  },
  {
   "cell_type": "code",
   "execution_count": 24,
   "id": "9c5e2099",
   "metadata": {},
   "outputs": [
    {
     "data": {
      "text/html": [
       "<div>\n",
       "<style scoped>\n",
       "    .dataframe tbody tr th:only-of-type {\n",
       "        vertical-align: middle;\n",
       "    }\n",
       "\n",
       "    .dataframe tbody tr th {\n",
       "        vertical-align: top;\n",
       "    }\n",
       "\n",
       "    .dataframe thead th {\n",
       "        text-align: right;\n",
       "    }\n",
       "</style>\n",
       "<table border=\"1\" class=\"dataframe\">\n",
       "  <thead>\n",
       "    <tr style=\"text-align: right;\">\n",
       "      <th></th>\n",
       "      <th>fixed acidity</th>\n",
       "      <th>volatile acidity</th>\n",
       "      <th>citric acid</th>\n",
       "      <th>chlorides</th>\n",
       "      <th>residual sugar_density</th>\n",
       "      <th>free sulfur dioxide</th>\n",
       "      <th>total sulfur dioxide</th>\n",
       "      <th>pH</th>\n",
       "      <th>sulphates</th>\n",
       "      <th>alcohol</th>\n",
       "      <th>quality</th>\n",
       "    </tr>\n",
       "  </thead>\n",
       "  <tbody>\n",
       "    <tr>\n",
       "      <th>0</th>\n",
       "      <td>7.0</td>\n",
       "      <td>0.27</td>\n",
       "      <td>0.36</td>\n",
       "      <td>0.045</td>\n",
       "      <td>21.7010</td>\n",
       "      <td>45.0</td>\n",
       "      <td>170.0</td>\n",
       "      <td>3.00</td>\n",
       "      <td>0.45</td>\n",
       "      <td>8.8</td>\n",
       "      <td>6</td>\n",
       "    </tr>\n",
       "    <tr>\n",
       "      <th>1</th>\n",
       "      <td>6.3</td>\n",
       "      <td>0.30</td>\n",
       "      <td>0.34</td>\n",
       "      <td>0.049</td>\n",
       "      <td>2.5940</td>\n",
       "      <td>14.0</td>\n",
       "      <td>132.0</td>\n",
       "      <td>3.30</td>\n",
       "      <td>0.49</td>\n",
       "      <td>9.5</td>\n",
       "      <td>6</td>\n",
       "    </tr>\n",
       "    <tr>\n",
       "      <th>2</th>\n",
       "      <td>8.1</td>\n",
       "      <td>0.28</td>\n",
       "      <td>0.40</td>\n",
       "      <td>0.050</td>\n",
       "      <td>7.8951</td>\n",
       "      <td>30.0</td>\n",
       "      <td>97.0</td>\n",
       "      <td>3.26</td>\n",
       "      <td>0.44</td>\n",
       "      <td>10.1</td>\n",
       "      <td>6</td>\n",
       "    </tr>\n",
       "    <tr>\n",
       "      <th>3</th>\n",
       "      <td>7.2</td>\n",
       "      <td>0.23</td>\n",
       "      <td>0.32</td>\n",
       "      <td>0.058</td>\n",
       "      <td>9.4956</td>\n",
       "      <td>47.0</td>\n",
       "      <td>186.0</td>\n",
       "      <td>3.19</td>\n",
       "      <td>0.40</td>\n",
       "      <td>9.9</td>\n",
       "      <td>6</td>\n",
       "    </tr>\n",
       "    <tr>\n",
       "      <th>6</th>\n",
       "      <td>6.2</td>\n",
       "      <td>0.32</td>\n",
       "      <td>0.16</td>\n",
       "      <td>0.045</td>\n",
       "      <td>7.9949</td>\n",
       "      <td>30.0</td>\n",
       "      <td>136.0</td>\n",
       "      <td>3.18</td>\n",
       "      <td>0.47</td>\n",
       "      <td>9.6</td>\n",
       "      <td>6</td>\n",
       "    </tr>\n",
       "  </tbody>\n",
       "</table>\n",
       "</div>"
      ],
      "text/plain": [
       "   fixed acidity  volatile acidity  citric acid  chlorides  \\\n",
       "0            7.0              0.27         0.36      0.045   \n",
       "1            6.3              0.30         0.34      0.049   \n",
       "2            8.1              0.28         0.40      0.050   \n",
       "3            7.2              0.23         0.32      0.058   \n",
       "6            6.2              0.32         0.16      0.045   \n",
       "\n",
       "   residual sugar_density  free sulfur dioxide  total sulfur dioxide    pH  \\\n",
       "0                 21.7010                 45.0                 170.0  3.00   \n",
       "1                  2.5940                 14.0                 132.0  3.30   \n",
       "2                  7.8951                 30.0                  97.0  3.26   \n",
       "3                  9.4956                 47.0                 186.0  3.19   \n",
       "6                  7.9949                 30.0                 136.0  3.18   \n",
       "\n",
       "   sulphates  alcohol  quality  \n",
       "0       0.45      8.8        6  \n",
       "1       0.49      9.5        6  \n",
       "2       0.44     10.1        6  \n",
       "3       0.40      9.9        6  \n",
       "6       0.47      9.6        6  "
      ]
     },
     "execution_count": 24,
     "metadata": {},
     "output_type": "execute_result"
    }
   ],
   "source": [
    "df.head()"
   ]
  },
  {
   "cell_type": "code",
   "execution_count": 25,
   "id": "b860f89a",
   "metadata": {},
   "outputs": [],
   "source": [
    "# Preprocess the data after adding 'residual sugar_density' column\n",
    "x_new = df.drop(target_name, axis=1)\n",
    "x_res_new = sc.fit_transform(x_new)"
   ]
  },
  {
   "cell_type": "code",
   "execution_count": 26,
   "id": "f2123135",
   "metadata": {},
   "outputs": [
    {
     "data": {
      "text/plain": [
       "(3961, 10)"
      ]
     },
     "execution_count": 26,
     "metadata": {},
     "output_type": "execute_result"
    }
   ],
   "source": [
    "x_res_new.shape"
   ]
  },
  {
   "cell_type": "code",
   "execution_count": 27,
   "id": "53e280a2",
   "metadata": {},
   "outputs": [],
   "source": [
    "# Calculate variance inflation factor (VIF) for each feature after preprocessing\n",
    "vif_new = pd.DataFrame()\n",
    "vif_new[\"VIF Factor\"] = [variance_inflation_factor(x_res_new, i) for i in range(x_res_new.shape[1])]\n",
    "vif_new[\"features\"] = x_new.columns"
   ]
  },
  {
   "cell_type": "code",
   "execution_count": 28,
   "id": "d3b80e1a",
   "metadata": {},
   "outputs": [
    {
     "name": "stdout",
     "output_type": "stream",
     "text": [
      "Variance Inflation Factor (VIF) after preprocessing:\n"
     ]
    },
    {
     "data": {
      "text/html": [
       "<div>\n",
       "<style scoped>\n",
       "    .dataframe tbody tr th:only-of-type {\n",
       "        vertical-align: middle;\n",
       "    }\n",
       "\n",
       "    .dataframe tbody tr th {\n",
       "        vertical-align: top;\n",
       "    }\n",
       "\n",
       "    .dataframe thead th {\n",
       "        text-align: right;\n",
       "    }\n",
       "</style>\n",
       "<table border=\"1\" class=\"dataframe\">\n",
       "  <thead>\n",
       "    <tr style=\"text-align: right;\">\n",
       "      <th></th>\n",
       "      <th>VIF Factor</th>\n",
       "      <th>features</th>\n",
       "    </tr>\n",
       "  </thead>\n",
       "  <tbody>\n",
       "    <tr>\n",
       "      <th>0</th>\n",
       "      <td>1.369517</td>\n",
       "      <td>fixed acidity</td>\n",
       "    </tr>\n",
       "    <tr>\n",
       "      <th>1</th>\n",
       "      <td>1.156934</td>\n",
       "      <td>volatile acidity</td>\n",
       "    </tr>\n",
       "    <tr>\n",
       "      <th>2</th>\n",
       "      <td>1.186250</td>\n",
       "      <td>citric acid</td>\n",
       "    </tr>\n",
       "    <tr>\n",
       "      <th>3</th>\n",
       "      <td>1.208348</td>\n",
       "      <td>chlorides</td>\n",
       "    </tr>\n",
       "    <tr>\n",
       "      <th>4</th>\n",
       "      <td>1.380918</td>\n",
       "      <td>residual sugar_density</td>\n",
       "    </tr>\n",
       "    <tr>\n",
       "      <th>5</th>\n",
       "      <td>1.787546</td>\n",
       "      <td>free sulfur dioxide</td>\n",
       "    </tr>\n",
       "    <tr>\n",
       "      <th>6</th>\n",
       "      <td>2.206575</td>\n",
       "      <td>total sulfur dioxide</td>\n",
       "    </tr>\n",
       "    <tr>\n",
       "      <th>7</th>\n",
       "      <td>1.326277</td>\n",
       "      <td>pH</td>\n",
       "    </tr>\n",
       "    <tr>\n",
       "      <th>8</th>\n",
       "      <td>1.052646</td>\n",
       "      <td>sulphates</td>\n",
       "    </tr>\n",
       "    <tr>\n",
       "      <th>9</th>\n",
       "      <td>1.564044</td>\n",
       "      <td>alcohol</td>\n",
       "    </tr>\n",
       "  </tbody>\n",
       "</table>\n",
       "</div>"
      ],
      "text/plain": [
       "   VIF Factor                features\n",
       "0    1.369517           fixed acidity\n",
       "1    1.156934        volatile acidity\n",
       "2    1.186250             citric acid\n",
       "3    1.208348               chlorides\n",
       "4    1.380918  residual sugar_density\n",
       "5    1.787546     free sulfur dioxide\n",
       "6    2.206575    total sulfur dioxide\n",
       "7    1.326277                      pH\n",
       "8    1.052646               sulphates\n",
       "9    1.564044                 alcohol"
      ]
     },
     "execution_count": 28,
     "metadata": {},
     "output_type": "execute_result"
    }
   ],
   "source": [
    "# Display VIF for each feature after preprocessing\n",
    "print(\"Variance Inflation Factor (VIF) after preprocessing:\")\n",
    "pd.DataFrame(vif_new)"
   ]
  },
  {
   "cell_type": "code",
   "execution_count": 29,
   "id": "b839b7d0",
   "metadata": {},
   "outputs": [],
   "source": [
    "sc.fit(x_res_new)\n",
    "rescaledX = sc.transform(x_res_new)"
   ]
  },
  {
   "cell_type": "code",
   "execution_count": 30,
   "id": "92349f03",
   "metadata": {},
   "outputs": [
    {
     "data": {
      "text/plain": [
       "(3961, 10)"
      ]
     },
     "execution_count": 30,
     "metadata": {},
     "output_type": "execute_result"
    }
   ],
   "source": [
    "rescaledX.shape"
   ]
  },
  {
   "cell_type": "markdown",
   "id": "8adc21f1",
   "metadata": {},
   "source": [
    "# 4. Model training: \n",
    "#### The code uses scikit-learn to split the data into training and testing sets using train_test_split, and then trains three different classifiers: DecisionTreeClassifier, RandomForestClassifier, and SVC (Support Vector Classifier) on the training data.\n"
   ]
  },
  {
   "cell_type": "code",
   "execution_count": 31,
   "id": "db4c9c1a",
   "metadata": {},
   "outputs": [
    {
     "name": "stdout",
     "output_type": "stream",
     "text": [
      "X_train.shape: (3168, 10)\n",
      "y_train.shape: (3168,)\n",
      "X_test.shape: (793, 10)\n",
      "y_test.shape: (793,)\n"
     ]
    }
   ],
   "source": [
    "# Split the dataset into training and testing sets\n",
    "X_train, X_test, y_train, y_test = train_test_split(rescaledX, y, test_size=0.2, random_state=7)\n",
    "\n",
    "# Print the shapes of training and testing sets\n",
    "print(\"X_train.shape:\", X_train.shape)\n",
    "print(\"y_train.shape:\", y_train.shape)\n",
    "print(\"X_test.shape:\", X_test.shape)\n",
    "print(\"y_test.shape:\", y_test.shape)"
   ]
  },
  {
   "cell_type": "markdown",
   "id": "bce2c17f",
   "metadata": {},
   "source": [
    "# 5. Model evaluation: \n",
    "#### The code evaluates the trained models using accuracy score, confusion matrix, and classification report on both the training and testing data.\n"
   ]
  },
  {
   "cell_type": "markdown",
   "id": "6a5a0930",
   "metadata": {},
   "source": [
    "## 1) Decision Tree Classifier"
   ]
  },
  {
   "cell_type": "code",
   "execution_count": 32,
   "id": "1a92f010",
   "metadata": {},
   "outputs": [],
   "source": [
    "# Train Decision Tree Classifier\n",
    "dt = DecisionTreeClassifier()\n",
    "dt.fit(X_train, y_train)\n",
    "\n",
    "# Predict on training and testing sets using Decision Tree Classifier\n",
    "dt_train_pred = dt.predict(X_train)\n",
    "dt_test_pred = dt.predict(X_test)"
   ]
  },
  {
   "cell_type": "code",
   "execution_count": 33,
   "id": "8533f1a8",
   "metadata": {},
   "outputs": [],
   "source": [
    "dt_train_accuracy = accuracy_score(y_train, dt_train_pred) * 100\n",
    "dt_test_accuracy = accuracy_score(y_test, dt_test_pred) * 100"
   ]
  },
  {
   "cell_type": "code",
   "execution_count": 34,
   "id": "2dad57f6",
   "metadata": {},
   "outputs": [
    {
     "name": "stdout",
     "output_type": "stream",
     "text": [
      "Train Accuracy: 100.0\n",
      "Accuracy Score: 45.90163934426229\n"
     ]
    }
   ],
   "source": [
    "# Print accuracy scores and confusion matrix for Decision Tree Classifier\n",
    "print('Train Accuracy:', dt_train_accuracy)\n",
    "print('Accuracy Score:', dt_test_accuracy)"
   ]
  },
  {
   "cell_type": "code",
   "execution_count": 35,
   "id": "594f40a9",
   "metadata": {},
   "outputs": [
    {
     "name": "stdout",
     "output_type": "stream",
     "text": [
      "[[  0   0   2   3   1   0   0]\n",
      " [  0   8  15   3   3   3   0]\n",
      " [  0  13 118  93  20   3   0]\n",
      " [  0   5  96 182  52   9   1]\n",
      " [  0   1  11  61  49   9   0]\n",
      " [  0   0   0  11  10   7   0]\n",
      " [  0   0   1   1   2   0   0]]\n"
     ]
    }
   ],
   "source": [
    "print(confusion_matrix(y_test, dt_test_pred))"
   ]
  },
  {
   "cell_type": "code",
   "execution_count": 36,
   "id": "f17fd3c3",
   "metadata": {},
   "outputs": [
    {
     "name": "stdout",
     "output_type": "stream",
     "text": [
      "              precision    recall  f1-score   support\n",
      "\n",
      "           3     0.0000    0.0000    0.0000         6\n",
      "           4     0.2963    0.2500    0.2712        32\n",
      "           5     0.4856    0.4777    0.4816       247\n",
      "           6     0.5141    0.5275    0.5207       345\n",
      "           7     0.3577    0.3740    0.3657       131\n",
      "           8     0.2258    0.2500    0.2373        28\n",
      "           9     0.0000    0.0000    0.0000         4\n",
      "\n",
      "    accuracy                         0.4590       793\n",
      "   macro avg     0.2685    0.2685    0.2681       793\n",
      "weighted avg     0.4539    0.4590    0.4563       793\n",
      "\n"
     ]
    }
   ],
   "source": [
    "print(classification_report(y_test, dt_test_pred, digits=4))"
   ]
  },
  {
   "cell_type": "markdown",
   "id": "35dc3065",
   "metadata": {},
   "source": [
    "### Precision"
   ]
  },
  {
   "cell_type": "code",
   "execution_count": 37,
   "id": "a2e2340f",
   "metadata": {},
   "outputs": [],
   "source": [
    "dt_precision_macro = round(precision_score(y_test , dt_test_pred , average = 'macro')*100,2)\n",
    "dt_precision_micro = round(precision_score(y_test , dt_test_pred , average = 'micro')*100,2)\n",
    "dt_precision_weighted = round(precision_score(y_test , dt_test_pred , average = 'weighted')*100,2)"
   ]
  },
  {
   "cell_type": "code",
   "execution_count": 38,
   "id": "e44413a0",
   "metadata": {},
   "outputs": [
    {
     "name": "stdout",
     "output_type": "stream",
     "text": [
      "Precision score of macro is:  26.85\n",
      "Precision score of micro is:  45.9\n",
      "Precision score of weighted is:  45.39\n"
     ]
    }
   ],
   "source": [
    "print('Precision score of macro is: ' , dt_precision_macro)\n",
    "print('Precision score of micro is: ' , dt_precision_micro)\n",
    "print('Precision score of weighted is: ' , dt_precision_weighted)"
   ]
  },
  {
   "cell_type": "markdown",
   "id": "1e831136",
   "metadata": {},
   "source": [
    "### Recall"
   ]
  },
  {
   "cell_type": "code",
   "execution_count": 39,
   "id": "badf39df",
   "metadata": {},
   "outputs": [],
   "source": [
    "dt_recall_macro = round(recall_score(y_test , dt_test_pred , average = 'macro')*100,2)\n",
    "dt_recall_micro = round(recall_score(y_test , dt_test_pred , average = 'micro')*100,2)\n",
    "dt_recall_weighted = round(recall_score(y_test , dt_test_pred , average = 'weighted')*100,2)"
   ]
  },
  {
   "cell_type": "code",
   "execution_count": 40,
   "id": "ea68a67a",
   "metadata": {},
   "outputs": [
    {
     "name": "stdout",
     "output_type": "stream",
     "text": [
      "recall_score score of macro is:  26.85\n",
      "recall_score score of micro is:  45.9\n",
      "recall_score score of weighted is:  45.9\n"
     ]
    }
   ],
   "source": [
    "print('recall_score score of macro is: ' , dt_recall_macro)\n",
    "print('recall_score score of micro is: ' , dt_recall_micro)\n",
    "print('recall_score score of weighted is: ' , dt_recall_weighted)"
   ]
  },
  {
   "cell_type": "markdown",
   "id": "750f2321",
   "metadata": {},
   "source": [
    "### F-1 score"
   ]
  },
  {
   "cell_type": "code",
   "execution_count": 41,
   "id": "92032c3f",
   "metadata": {},
   "outputs": [],
   "source": [
    "dt_f_1_score_macro = round(f1_score(y_test , dt_test_pred , average = 'macro')*100,2)\n",
    "dt_f_1_score_micro = round(f1_score(y_test , dt_test_pred , average = 'micro')*100,2)\n",
    "dt_f_1_score_weighted = round(f1_score(y_test , dt_test_pred , average = 'weighted')*100,2)"
   ]
  },
  {
   "cell_type": "code",
   "execution_count": 42,
   "id": "52cc5fd0",
   "metadata": {},
   "outputs": [
    {
     "name": "stdout",
     "output_type": "stream",
     "text": [
      "f1_score score of macro is:  26.81\n",
      "f1_score score of micro is:  45.9\n",
      "f1_score score of weighted is:  45.63\n"
     ]
    }
   ],
   "source": [
    "print('f1_score score of macro is: ' , round(f1_score(y_test , dt_test_pred , average = 'macro')*100,2))\n",
    "print('f1_score score of micro is: ' , round(f1_score(y_test , dt_test_pred , average = 'micro')*100,2))\n",
    "print('f1_score score of weighted is: ' , round(f1_score(y_test , dt_test_pred , average = 'weighted')*100,2))"
   ]
  },
  {
   "cell_type": "markdown",
   "id": "a981ef2c",
   "metadata": {},
   "source": [
    "## 2) Random Forest Classifier (RFC)"
   ]
  },
  {
   "cell_type": "code",
   "execution_count": 43,
   "id": "03328357",
   "metadata": {},
   "outputs": [],
   "source": [
    "# Train Random Forest Classifier\n",
    "RFC = RandomForestClassifier()\n",
    "RFC.fit(X_train, y_train)\n",
    "\n",
    "# Predict on training and testing sets using Random Forest Classifier\n",
    "RFC_train_pred = RFC.predict(X_train)\n",
    "RFC_test_pred = RFC.predict(X_test)"
   ]
  },
  {
   "cell_type": "code",
   "execution_count": 44,
   "id": "7e2b28e9",
   "metadata": {},
   "outputs": [],
   "source": [
    "RFC_train_accuracy = accuracy_score(y_train, RFC_train_pred) * 100\n",
    "RFC_test_accuracy = accuracy_score(y_test, RFC_test_pred) * 100"
   ]
  },
  {
   "cell_type": "code",
   "execution_count": 45,
   "id": "508a94f0",
   "metadata": {},
   "outputs": [
    {
     "name": "stdout",
     "output_type": "stream",
     "text": [
      "Train Accuracy: 100.0\n",
      "Accuracy Score: 56.11601513240857\n"
     ]
    }
   ],
   "source": [
    "# Print accuracy scores and confusion matrix for Random Forest Classifier\n",
    "print('Train Accuracy:', RFC_train_accuracy)\n",
    "print('Accuracy Score:', RFC_test_accuracy)"
   ]
  },
  {
   "cell_type": "code",
   "execution_count": 46,
   "id": "c40101c7",
   "metadata": {},
   "outputs": [
    {
     "name": "stdout",
     "output_type": "stream",
     "text": [
      "[[  0   1   4   1   0   0   0]\n",
      " [  0   4  16  12   0   0   0]\n",
      " [  0   2 149  93   3   0   0]\n",
      " [  0   1  66 244  34   0   0]\n",
      " [  0   0   3  82  46   0   0]\n",
      " [  0   0   0  12  14   2   0]\n",
      " [  0   0   0   3   1   0   0]]\n"
     ]
    }
   ],
   "source": [
    "print(confusion_matrix(y_test, RFC_test_pred))"
   ]
  },
  {
   "cell_type": "code",
   "execution_count": 47,
   "id": "15081c73",
   "metadata": {},
   "outputs": [
    {
     "name": "stdout",
     "output_type": "stream",
     "text": [
      "              precision    recall  f1-score   support\n",
      "\n",
      "           3     0.0000    0.0000    0.0000         6\n",
      "           4     0.5000    0.1250    0.2000        32\n",
      "           5     0.6261    0.6032    0.6144       247\n",
      "           6     0.5459    0.7072    0.6162       345\n",
      "           7     0.4694    0.3511    0.4017       131\n",
      "           8     1.0000    0.0714    0.1333        28\n",
      "           9     0.0000    0.0000    0.0000         4\n",
      "\n",
      "    accuracy                         0.5612       793\n",
      "   macro avg     0.4488    0.2654    0.2808       793\n",
      "weighted avg     0.5655    0.5612    0.5386       793\n",
      "\n"
     ]
    }
   ],
   "source": [
    "print(classification_report(y_test, RFC_test_pred, digits=4))"
   ]
  },
  {
   "cell_type": "markdown",
   "id": "0d989c57",
   "metadata": {},
   "source": [
    "### Precision"
   ]
  },
  {
   "cell_type": "code",
   "execution_count": 48,
   "id": "d49c538f",
   "metadata": {},
   "outputs": [],
   "source": [
    "RFC_precision_macro = round(precision_score(y_test , RFC_test_pred , average = 'macro')*100,2)\n",
    "RFC_precision_micro = round(precision_score(y_test , RFC_test_pred , average = 'micro')*100,2)\n",
    "RFC_precision_weighted = round(precision_score(y_test , RFC_test_pred , average = 'weighted')*100,2)"
   ]
  },
  {
   "cell_type": "code",
   "execution_count": 49,
   "id": "81024946",
   "metadata": {},
   "outputs": [
    {
     "name": "stdout",
     "output_type": "stream",
     "text": [
      "Precision score of macro is:  44.88\n",
      "Precision score of micro is:  56.12\n",
      "Precision score of weighted is:  56.55\n"
     ]
    }
   ],
   "source": [
    "print('Precision score of macro is: ' , RFC_precision_macro)\n",
    "print('Precision score of micro is: ' , RFC_precision_micro)\n",
    "print('Precision score of weighted is: ' , RFC_precision_weighted)"
   ]
  },
  {
   "cell_type": "markdown",
   "id": "51d4c173",
   "metadata": {},
   "source": [
    "### Recall"
   ]
  },
  {
   "cell_type": "code",
   "execution_count": 50,
   "id": "bdaefedc",
   "metadata": {},
   "outputs": [],
   "source": [
    "RFC_recall_macro = round(recall_score(y_test , RFC_test_pred , average = 'macro')*100,2)\n",
    "RFC_recall_micro = round(recall_score(y_test , RFC_test_pred , average = 'micro')*100,2)\n",
    "RFC_recall_weighted = round(recall_score(y_test , RFC_test_pred , average = 'weighted')*100,2)"
   ]
  },
  {
   "cell_type": "code",
   "execution_count": 51,
   "id": "64bd23ab",
   "metadata": {},
   "outputs": [
    {
     "name": "stdout",
     "output_type": "stream",
     "text": [
      "recall_score score of macro is:  26.54\n",
      "recall_score score of micro is:  56.12\n",
      "recall_score score of weighted is:  56.12\n"
     ]
    }
   ],
   "source": [
    "print('recall_score score of macro is: ' , RFC_recall_macro)\n",
    "print('recall_score score of micro is: ' , RFC_recall_micro)\n",
    "print('recall_score score of weighted is: ' , RFC_recall_weighted)"
   ]
  },
  {
   "cell_type": "markdown",
   "id": "8a311c67",
   "metadata": {},
   "source": [
    "### F-1 score"
   ]
  },
  {
   "cell_type": "code",
   "execution_count": 52,
   "id": "072cb359",
   "metadata": {},
   "outputs": [],
   "source": [
    "RFC_f_1_score_macro = round(f1_score(y_test , RFC_test_pred , average = 'macro')*100,2)\n",
    "RFC_f_1_score_micro = round(f1_score(y_test , RFC_test_pred , average = 'micro')*100,2)\n",
    "RFC_f_1_score_weighted = round(f1_score(y_test , RFC_test_pred , average = 'weighted')*100,2)"
   ]
  },
  {
   "cell_type": "code",
   "execution_count": 53,
   "id": "bf94ce56",
   "metadata": {},
   "outputs": [
    {
     "name": "stdout",
     "output_type": "stream",
     "text": [
      "f1_score score of macro is:  28.08\n",
      "f1_score score of micro is:  56.12\n",
      "f1_score score of weighted is:  53.86\n"
     ]
    }
   ],
   "source": [
    "print('f1_score score of macro is: ' , RFC_f_1_score_macro)\n",
    "print('f1_score score of micro is: ' , RFC_f_1_score_micro)\n",
    "print('f1_score score of weighted is: ' , RFC_f_1_score_weighted)"
   ]
  },
  {
   "cell_type": "markdown",
   "id": "d79db5e8",
   "metadata": {},
   "source": [
    "## 3) Support Vector Classifier (SVC)"
   ]
  },
  {
   "cell_type": "code",
   "execution_count": 54,
   "id": "55a9e593",
   "metadata": {},
   "outputs": [],
   "source": [
    "# Train Support Vector Classifier (SVC)\n",
    "svc_model = SVC()\n",
    "svc_model.fit(X_train, y_train)\n",
    "\n",
    "# Predict on training and testing sets using SVC\n",
    "svc_train_pred = svc_model.predict(X_train)\n",
    "svc_test_pred = svc_model.predict(X_test)"
   ]
  },
  {
   "cell_type": "code",
   "execution_count": 55,
   "id": "80481c28",
   "metadata": {},
   "outputs": [],
   "source": [
    "svc_train_accuracy = accuracy_score(y_train, svc_train_pred) * 100\n",
    "svc_test_accuracy = accuracy_score(y_test, svc_test_pred) * 100"
   ]
  },
  {
   "cell_type": "code",
   "execution_count": 56,
   "id": "411cf6e2",
   "metadata": {},
   "outputs": [
    {
     "name": "stdout",
     "output_type": "stream",
     "text": [
      "Train Accuracy: 60.92171717171717\n",
      "Accuracy Score: 55.61160151324086\n"
     ]
    }
   ],
   "source": [
    "# Print accuracy scores and confusion matrix for SVC\n",
    "print('Train Accuracy:', svc_train_accuracy)\n",
    "print('Accuracy Score:', svc_test_accuracy)"
   ]
  },
  {
   "cell_type": "code",
   "execution_count": 57,
   "id": "6dfe271f",
   "metadata": {},
   "outputs": [
    {
     "name": "stdout",
     "output_type": "stream",
     "text": [
      "[[  0   0   4   2   0   0   0]\n",
      " [  0   2  17  13   0   0   0]\n",
      " [  0   0 134 113   0   0   0]\n",
      " [  0   0  60 273  12   0   0]\n",
      " [  0   0   4  95  32   0   0]\n",
      " [  0   0   0  15  13   0   0]\n",
      " [  0   0   0   2   2   0   0]]\n"
     ]
    }
   ],
   "source": [
    "print(confusion_matrix(y_test, svc_test_pred))"
   ]
  },
  {
   "cell_type": "code",
   "execution_count": 58,
   "id": "3af9a88c",
   "metadata": {},
   "outputs": [
    {
     "name": "stdout",
     "output_type": "stream",
     "text": [
      "              precision    recall  f1-score   support\n",
      "\n",
      "           3     0.0000    0.0000    0.0000         6\n",
      "           4     1.0000    0.0625    0.1176        32\n",
      "           5     0.6119    0.5425    0.5751       247\n",
      "           6     0.5322    0.7913    0.6364       345\n",
      "           7     0.5424    0.2443    0.3368       131\n",
      "           8     0.0000    0.0000    0.0000        28\n",
      "           9     0.0000    0.0000    0.0000         4\n",
      "\n",
      "    accuracy                         0.5561       793\n",
      "   macro avg     0.3838    0.2344    0.2380       793\n",
      "weighted avg     0.5521    0.5561    0.5164       793\n",
      "\n"
     ]
    }
   ],
   "source": [
    "print(classification_report(y_test, svc_test_pred, digits=4))"
   ]
  },
  {
   "cell_type": "markdown",
   "id": "a36cd714",
   "metadata": {},
   "source": [
    "### Precision"
   ]
  },
  {
   "cell_type": "code",
   "execution_count": 59,
   "id": "f897129b",
   "metadata": {},
   "outputs": [],
   "source": [
    "svc_precision_macro = round(precision_score(y_test , svc_test_pred , average = 'macro')*100,2)\n",
    "svc_precision_micro = round(precision_score(y_test , svc_test_pred , average = 'micro')*100,2)\n",
    "svc_precision_weighted = round(precision_score(y_test , svc_test_pred , average = 'weighted')*100,2)"
   ]
  },
  {
   "cell_type": "code",
   "execution_count": 60,
   "id": "4b87ce9d",
   "metadata": {},
   "outputs": [
    {
     "name": "stdout",
     "output_type": "stream",
     "text": [
      "Precision score of macro is:  38.38\n",
      "Precision score of micro is:  55.61\n",
      "Precision score of weighted is:  55.21\n"
     ]
    }
   ],
   "source": [
    "print('Precision score of macro is: ' , svc_precision_macro)\n",
    "print('Precision score of micro is: ' , svc_precision_micro)\n",
    "print('Precision score of weighted is: ' , svc_precision_weighted)"
   ]
  },
  {
   "cell_type": "markdown",
   "id": "f42a804f",
   "metadata": {},
   "source": [
    "### Recall"
   ]
  },
  {
   "cell_type": "code",
   "execution_count": 61,
   "id": "38da2730",
   "metadata": {},
   "outputs": [],
   "source": [
    "svc_recall_macro = round(recall_score(y_test , svc_test_pred , average = 'macro')*100,2)\n",
    "svc_recall_micro = round(recall_score(y_test , svc_test_pred , average = 'micro')*100,2)\n",
    "svc_recall_weighted = round(recall_score(y_test , svc_test_pred , average = 'weighted')*100,2)"
   ]
  },
  {
   "cell_type": "code",
   "execution_count": 62,
   "id": "84a13899",
   "metadata": {},
   "outputs": [
    {
     "name": "stdout",
     "output_type": "stream",
     "text": [
      "recall_score score of macro is:  23.44\n",
      "recall_score score of micro is:  55.61\n",
      "recall_score score of weighted is:  55.61\n"
     ]
    }
   ],
   "source": [
    "print('recall_score score of macro is: ' , svc_recall_macro)\n",
    "print('recall_score score of micro is: ' , svc_recall_micro)\n",
    "print('recall_score score of weighted is: ' , svc_recall_weighted)"
   ]
  },
  {
   "cell_type": "markdown",
   "id": "82a7167a",
   "metadata": {},
   "source": [
    "### F-1 score"
   ]
  },
  {
   "cell_type": "code",
   "execution_count": 63,
   "id": "1616dfc1",
   "metadata": {},
   "outputs": [],
   "source": [
    "svc_f_1_score_macro = round(f1_score(y_test , svc_test_pred , average = 'macro')*100,2)\n",
    "svc_f_1_score_micro = round(f1_score(y_test , svc_test_pred , average = 'micro')*100,2)\n",
    "svc_f_1_score_weighted = round(f1_score(y_test , svc_test_pred , average = 'weighted')*100,2)"
   ]
  },
  {
   "cell_type": "code",
   "execution_count": 64,
   "id": "c02ce0df",
   "metadata": {},
   "outputs": [
    {
     "name": "stdout",
     "output_type": "stream",
     "text": [
      "f1_score score of macro is:  23.8\n",
      "f1_score score of micro is:  55.61\n",
      "f1_score score of weighted is:  51.64\n"
     ]
    }
   ],
   "source": [
    "print('f1_score score of macro is: ' , svc_f_1_score_macro)\n",
    "print('f1_score score of micro is: ' , svc_f_1_score_micro)\n",
    "print('f1_score score of weighted is: ' , svc_f_1_score_weighted)"
   ]
  },
  {
   "cell_type": "markdown",
   "id": "d32b6363",
   "metadata": {},
   "source": [
    "## Table"
   ]
  },
  {
   "cell_type": "code",
   "execution_count": 65,
   "id": "cfd9f2e0",
   "metadata": {},
   "outputs": [],
   "source": [
    "# Load the dataset\n",
    "table = pd.read_excel('/Users/sarthaksangwan/Desktop/data mining project/Conclusion_winequality.xls')"
   ]
  },
  {
   "cell_type": "code",
   "execution_count": 66,
   "id": "cbf0c51d",
   "metadata": {},
   "outputs": [],
   "source": [
    "# Create a dictionary with the data\n",
    "data_DTC = {'Model': 'DTC',\n",
    "        'Train Score': dt_train_accuracy,\n",
    "        'Test Score': dt_test_accuracy,\n",
    "        'Precision_Macro': dt_precision_macro,\n",
    "        'Precision_Micro': dt_precision_micro,\n",
    "        'Recall_Macro': dt_recall_macro,\n",
    "        'Recall_Micro': dt_recall_micro,\n",
    "        'F1_Score_Macro': dt_f_1_score_macro,\n",
    "        'F1_Score_Micro': dt_f_1_score_micro}\n",
    "\n",
    "# Append the data to the dataframe\n",
    "table = table.append(data_DTC, ignore_index=True)"
   ]
  },
  {
   "cell_type": "code",
   "execution_count": 67,
   "id": "de0a822d",
   "metadata": {},
   "outputs": [],
   "source": [
    "# Create a dictionary with the data\n",
    "data_RFC = {'Model': 'RFC',\n",
    "        'Train Score': RFC_train_accuracy,\n",
    "        'Test Score': RFC_test_accuracy,\n",
    "        'Precision_Macro': RFC_precision_macro,\n",
    "        'Precision_Micro': RFC_precision_micro,\n",
    "        'Recall_Macro': RFC_recall_macro,\n",
    "        'Recall_Micro': RFC_recall_micro,\n",
    "        'F1_Score_Macro': RFC_f_1_score_macro,\n",
    "        'F1_Score_Micro': RFC_f_1_score_micro}\n",
    "\n",
    "# Append the data to the dataframe\n",
    "table = table.append(data_RFC, ignore_index=True)"
   ]
  },
  {
   "cell_type": "code",
   "execution_count": 68,
   "id": "ec620923",
   "metadata": {},
   "outputs": [],
   "source": [
    "# Create a dictionary with the data\n",
    "data_SVC = {'Model': 'SVC',\n",
    "        'Train Score': svc_train_accuracy,\n",
    "        'Test Score': svc_test_accuracy,\n",
    "        'Precision_Macro': svc_precision_macro,\n",
    "        'Precision_Micro': svc_precision_micro,\n",
    "        'Recall_Macro': svc_recall_macro,\n",
    "        'Recall_Micro': svc_recall_micro,\n",
    "        'F1_Score_Macro': svc_f_1_score_macro,\n",
    "        'F1_Score_Micro': svc_f_1_score_micro}\n",
    "\n",
    "# Append the data to the dataframe\n",
    "table = table.append(data_SVC, ignore_index=True)"
   ]
  },
  {
   "cell_type": "code",
   "execution_count": 69,
   "id": "6c33ede0",
   "metadata": {},
   "outputs": [],
   "source": [
    "# Drop pr-existing rows\n",
    "table = table.drop([0,1,2])\n",
    "\n",
    "# Rename the index from 3, 4, 5 to 0, 1, 2\n",
    "table1 = table.rename(index={3: 0, 4: 1, 5: 2})"
   ]
  },
  {
   "cell_type": "code",
   "execution_count": 70,
   "id": "60f44918",
   "metadata": {},
   "outputs": [
    {
     "data": {
      "text/html": [
       "<div>\n",
       "<style scoped>\n",
       "    .dataframe tbody tr th:only-of-type {\n",
       "        vertical-align: middle;\n",
       "    }\n",
       "\n",
       "    .dataframe tbody tr th {\n",
       "        vertical-align: top;\n",
       "    }\n",
       "\n",
       "    .dataframe thead th {\n",
       "        text-align: right;\n",
       "    }\n",
       "</style>\n",
       "<table border=\"1\" class=\"dataframe\">\n",
       "  <thead>\n",
       "    <tr style=\"text-align: right;\">\n",
       "      <th></th>\n",
       "      <th>Model</th>\n",
       "      <th>Train Score</th>\n",
       "      <th>Test Score</th>\n",
       "      <th>Precision_Macro</th>\n",
       "      <th>Precision_Micro</th>\n",
       "      <th>Recall_Macro</th>\n",
       "      <th>Recall_Micro</th>\n",
       "      <th>F1_Score_Macro</th>\n",
       "      <th>F1_Score_Micro</th>\n",
       "    </tr>\n",
       "  </thead>\n",
       "  <tbody>\n",
       "    <tr>\n",
       "      <th>0</th>\n",
       "      <td>DTC</td>\n",
       "      <td>100.000000</td>\n",
       "      <td>45.901639</td>\n",
       "      <td>26.85</td>\n",
       "      <td>45.90</td>\n",
       "      <td>26.85</td>\n",
       "      <td>45.90</td>\n",
       "      <td>26.81</td>\n",
       "      <td>45.90</td>\n",
       "    </tr>\n",
       "    <tr>\n",
       "      <th>1</th>\n",
       "      <td>RFC</td>\n",
       "      <td>100.000000</td>\n",
       "      <td>56.116015</td>\n",
       "      <td>44.88</td>\n",
       "      <td>56.12</td>\n",
       "      <td>26.54</td>\n",
       "      <td>56.12</td>\n",
       "      <td>28.08</td>\n",
       "      <td>56.12</td>\n",
       "    </tr>\n",
       "    <tr>\n",
       "      <th>2</th>\n",
       "      <td>SVC</td>\n",
       "      <td>60.921717</td>\n",
       "      <td>55.611602</td>\n",
       "      <td>38.38</td>\n",
       "      <td>55.61</td>\n",
       "      <td>23.44</td>\n",
       "      <td>55.61</td>\n",
       "      <td>23.80</td>\n",
       "      <td>55.61</td>\n",
       "    </tr>\n",
       "  </tbody>\n",
       "</table>\n",
       "</div>"
      ],
      "text/plain": [
       "  Model  Train Score  Test Score  Precision_Macro  Precision_Micro  \\\n",
       "0   DTC   100.000000   45.901639            26.85            45.90   \n",
       "1   RFC   100.000000   56.116015            44.88            56.12   \n",
       "2   SVC    60.921717   55.611602            38.38            55.61   \n",
       "\n",
       "   Recall_Macro  Recall_Micro  F1_Score_Macro  F1_Score_Micro  \n",
       "0         26.85         45.90           26.81           45.90  \n",
       "1         26.54         56.12           28.08           56.12  \n",
       "2         23.44         55.61           23.80           55.61  "
      ]
     },
     "execution_count": 70,
     "metadata": {},
     "output_type": "execute_result"
    }
   ],
   "source": [
    "table1"
   ]
  },
  {
   "cell_type": "markdown",
   "id": "1995958c",
   "metadata": {},
   "source": [
    "# 6. Handling imbalanced data: \n",
    "#### The code uses SMOTE (Synthetic Minority Over-sampling Technique) from imblearn library to oversample the minority class (quality) in the dataset to handle imbalanced data.\n"
   ]
  },
  {
   "cell_type": "code",
   "execution_count": 71,
   "id": "9ecccb40",
   "metadata": {},
   "outputs": [
    {
     "name": "stdout",
     "output_type": "stream",
     "text": [
      "6    1788\n",
      "5    1175\n",
      "7     689\n",
      "4     153\n",
      "8     131\n",
      "3      20\n",
      "9       5\n",
      "Name: quality, dtype: int64\n"
     ]
    }
   ],
   "source": [
    "# Check value counts of y\n",
    "print(y.value_counts())"
   ]
  },
  {
   "cell_type": "code",
   "execution_count": 72,
   "id": "e7ac9f75",
   "metadata": {},
   "outputs": [],
   "source": [
    "# Apply SMOTE for handling imbalanced dataset\n",
    "oversample = SMOTE(k_neighbors=4)\n",
    "X_res1, y_res1 = oversample.fit_resample(x_res_new, y)"
   ]
  },
  {
   "cell_type": "code",
   "execution_count": 73,
   "id": "1b52d3b3",
   "metadata": {},
   "outputs": [
    {
     "name": "stdout",
     "output_type": "stream",
     "text": [
      "X_res1.shape: (12516, 10)\n",
      "y_res1.shape: (12516,)\n"
     ]
    }
   ],
   "source": [
    "# Print shapes of resampled dataset\n",
    "print(\"X_res1.shape:\", X_res1.shape)\n",
    "print(\"y_res1.shape:\", y_res1.shape)"
   ]
  },
  {
   "cell_type": "code",
   "execution_count": 74,
   "id": "c4bbd7d9",
   "metadata": {},
   "outputs": [
    {
     "name": "stdout",
     "output_type": "stream",
     "text": [
      "Original y value counts:\n",
      "6    1788\n",
      "5    1175\n",
      "7     689\n",
      "4     153\n",
      "8     131\n",
      "3      20\n",
      "9       5\n",
      "Name: quality, dtype: int64\n",
      "Resampled y value counts:\n",
      "6    1788\n",
      "5    1788\n",
      "7    1788\n",
      "8    1788\n",
      "4    1788\n",
      "3    1788\n",
      "9    1788\n",
      "Name: quality, dtype: int64\n"
     ]
    }
   ],
   "source": [
    "# Check value counts of original and resampled y\n",
    "print(\"Original y value counts:\")\n",
    "print(y.value_counts())\n",
    "print(\"Resampled y value counts:\")\n",
    "print(pd.Series(y_res1).value_counts())"
   ]
  },
  {
   "cell_type": "code",
   "execution_count": 75,
   "id": "f76bbb3b",
   "metadata": {},
   "outputs": [
    {
     "data": {
      "image/png": "[encoded data removed]",
      "text/plain": [
       "<Figure size 432x288 with 1 Axes>"
      ]
     },
     "metadata": {
      "needs_background": "light"
     },
     "output_type": "display_data"
    }
   ],
   "source": [
    "# Plot bar chart of resampled y value counts\n",
    "pd.Series(y_res1).value_counts().plot.bar()\n",
    "plt.grid()\n"
   ]
  },
  {
   "cell_type": "markdown",
   "id": "c0480765",
   "metadata": {},
   "source": [
    "# 7. Retraining and re-evaluation: \n",
    "#### The code retrains the models on the oversampled data and evaluates their performance again using the same metrics as before."
   ]
  },
  {
   "cell_type": "code",
   "execution_count": 76,
   "id": "dc35a497",
   "metadata": {},
   "outputs": [],
   "source": [
    "# Split the resampled dataset into training and testing sets\n",
    "X_train, X_test, y_train, y_test = train_test_split(X_res1, y_res1, test_size=0.2, random_state=7)"
   ]
  },
  {
   "cell_type": "code",
   "execution_count": 77,
   "id": "d4b84a0f",
   "metadata": {},
   "outputs": [
    {
     "name": "stdout",
     "output_type": "stream",
     "text": [
      "X_train.shape: (10012, 10)\n",
      "y_train.shape: (10012,)\n",
      "X_test.shape: (2504, 10)\n",
      "X_test.shape: (2504,)\n"
     ]
    }
   ],
   "source": [
    "# Print the shapes of training and testing sets for resampled dataset\n",
    "print(\"X_train.shape:\", X_train.shape)\n",
    "print(\"y_train.shape:\", y_train.shape)\n",
    "print(\"X_test.shape:\", X_test.shape)\n",
    "print(\"X_test.shape:\", y_test.shape)"
   ]
  },
  {
   "cell_type": "markdown",
   "id": "0dfadbdf",
   "metadata": {},
   "source": [
    "## 1) Decision Tree Classifier "
   ]
  },
  {
   "cell_type": "code",
   "execution_count": 78,
   "id": "8031fe4e",
   "metadata": {},
   "outputs": [],
   "source": [
    "# Decision Tree Classifier\n",
    "dt = DecisionTreeClassifier()\n",
    "dt.fit(X_train, y_train)\n",
    "\n",
    "dt_train_pred = dt.predict(X_train)\n",
    "dt_test_pred = dt.predict(X_test)"
   ]
  },
  {
   "cell_type": "code",
   "execution_count": 79,
   "id": "f2d4b11a",
   "metadata": {},
   "outputs": [],
   "source": [
    "dt_train_accuracy_after_SMOTE = accuracy_score(y_train, dt_train_pred) * 100\n",
    "dt_test_accuracy_after_SMOTE = accuracy_score(y_test, dt_test_pred) * 100"
   ]
  },
  {
   "cell_type": "code",
   "execution_count": 80,
   "id": "ec9d4d90",
   "metadata": {},
   "outputs": [
    {
     "name": "stdout",
     "output_type": "stream",
     "text": [
      "Decision Tree Classifier (after SMOTE) Train Accuracy:  100.0\n",
      "Decision Tree Classifier (after SMOTE) Accuracy Score:  78.75399361022363\n"
     ]
    }
   ],
   "source": [
    "print('Decision Tree Classifier (after SMOTE) Train Accuracy: ', dt_train_accuracy_after_SMOTE)\n",
    "print('Decision Tree Classifier (after SMOTE) Accuracy Score: ', dt_test_accuracy_after_SMOTE)"
   ]
  },
  {
   "cell_type": "code",
   "execution_count": 81,
   "id": "7e1d22d9",
   "metadata": {},
   "outputs": [
    {
     "name": "stdout",
     "output_type": "stream",
     "text": [
      "[[368   3   8   3   0   0   0]\n",
      " [  4 322  27   9   9   1   0]\n",
      " [  4  31 222  67  15   3   0]\n",
      " [  4  15  75 153  86  22   0]\n",
      " [  2   2  19  52 228  31   0]\n",
      " [  0   1   8  14  15 310   1]\n",
      " [  0   0   0   0   1   0 369]]\n"
     ]
    }
   ],
   "source": [
    "print(confusion_matrix(y_test, dt_test_pred))"
   ]
  },
  {
   "cell_type": "code",
   "execution_count": 82,
   "id": "cdd712a7",
   "metadata": {},
   "outputs": [
    {
     "name": "stdout",
     "output_type": "stream",
     "text": [
      "              precision    recall  f1-score   support\n",
      "\n",
      "           3     0.9634    0.9634    0.9634       382\n",
      "           4     0.8610    0.8656    0.8633       372\n",
      "           5     0.6184    0.6491    0.6334       342\n",
      "           6     0.5134    0.4310    0.4686       355\n",
      "           7     0.6441    0.6826    0.6628       334\n",
      "           8     0.8447    0.8883    0.8659       349\n",
      "           9     0.9973    0.9973    0.9973       370\n",
      "\n",
      "    accuracy                         0.7875      2504\n",
      "   macro avg     0.7775    0.7825    0.7792      2504\n",
      "weighted avg     0.7831    0.7875    0.7846      2504\n",
      "\n"
     ]
    }
   ],
   "source": [
    "print(classification_report(y_test, dt_test_pred, digits=4))"
   ]
  },
  {
   "cell_type": "markdown",
   "id": "c2e87cd9",
   "metadata": {},
   "source": [
    "### Precision"
   ]
  },
  {
   "cell_type": "code",
   "execution_count": 83,
   "id": "b81c4a0e",
   "metadata": {},
   "outputs": [],
   "source": [
    "dt_precision_macro_after_SMOTE = round(precision_score(y_test , dt_test_pred , average = 'macro')*100,2)\n",
    "dt_precision_micro_after_SMOTE = round(precision_score(y_test , dt_test_pred , average = 'micro')*100,2)\n",
    "dt_precision_weighted_after_SMOTE = round(precision_score(y_test , dt_test_pred , average = 'weighted')*100,2)"
   ]
  },
  {
   "cell_type": "code",
   "execution_count": 84,
   "id": "641ff7d5",
   "metadata": {},
   "outputs": [
    {
     "name": "stdout",
     "output_type": "stream",
     "text": [
      "Precision score of macro is:  77.75\n",
      "Precision score of micro is:  78.75\n",
      "Precision score of weighted is:  78.31\n"
     ]
    }
   ],
   "source": [
    "print('Precision score of macro is: ' , dt_precision_macro_after_SMOTE)\n",
    "print('Precision score of micro is: ' , dt_precision_micro_after_SMOTE)\n",
    "print('Precision score of weighted is: ' , dt_precision_weighted_after_SMOTE)"
   ]
  },
  {
   "cell_type": "markdown",
   "id": "267872bd",
   "metadata": {},
   "source": [
    "### Recall"
   ]
  },
  {
   "cell_type": "code",
   "execution_count": 85,
   "id": "440b320b",
   "metadata": {},
   "outputs": [],
   "source": [
    "dt_recall_macro_after_SMOTE = round(recall_score(y_test , dt_test_pred , average = 'macro')*100,2)\n",
    "dt_recall_micro_after_SMOTE = round(recall_score(y_test , dt_test_pred , average = 'micro')*100,2)\n",
    "dt_recall_weighted_after_SMOTE = round(recall_score(y_test , dt_test_pred , average = 'weighted')*100,2)"
   ]
  },
  {
   "cell_type": "code",
   "execution_count": 86,
   "id": "b73eba5c",
   "metadata": {},
   "outputs": [
    {
     "name": "stdout",
     "output_type": "stream",
     "text": [
      "recall_score score of macro is:  78.25\n",
      "recall_score score of micro is:  78.75\n",
      "recall_score score of weighted is:  78.75\n"
     ]
    }
   ],
   "source": [
    "print('recall_score score of macro is: ' , dt_recall_macro_after_SMOTE)\n",
    "print('recall_score score of micro is: ' , dt_recall_micro_after_SMOTE)\n",
    "print('recall_score score of weighted is: ' , dt_recall_weighted_after_SMOTE)"
   ]
  },
  {
   "cell_type": "markdown",
   "id": "ffd36191",
   "metadata": {},
   "source": [
    "### F-1 Score"
   ]
  },
  {
   "cell_type": "code",
   "execution_count": 87,
   "id": "fd92a2d5",
   "metadata": {},
   "outputs": [],
   "source": [
    "dt_f_1_score_macro_after_SMOTE = round(f1_score(y_test , dt_test_pred , average = 'macro')*100,2)\n",
    "dt_f_1_score_micro_after_SMOTE = round(f1_score(y_test , dt_test_pred , average = 'micro')*100,2)\n",
    "dt_f_1_score_weighted_after_SMOTE = round(f1_score(y_test , dt_test_pred , average = 'weighted')*100,2)"
   ]
  },
  {
   "cell_type": "code",
   "execution_count": 88,
   "id": "339a08ff",
   "metadata": {},
   "outputs": [
    {
     "name": "stdout",
     "output_type": "stream",
     "text": [
      "f1_score score of macro is:  77.92\n",
      "f1_score score of micro is:  78.75\n",
      "f1_score score of weighted is:  78.46\n"
     ]
    }
   ],
   "source": [
    "print('f1_score score of macro is: ' , dt_f_1_score_macro_after_SMOTE)\n",
    "print('f1_score score of micro is: ' , dt_f_1_score_micro_after_SMOTE)\n",
    "print('f1_score score of weighted is: ' , dt_f_1_score_weighted_after_SMOTE)"
   ]
  },
  {
   "cell_type": "markdown",
   "id": "a4f7dfe7",
   "metadata": {},
   "source": [
    "## 2) Random Forest Classifier (RFC)"
   ]
  },
  {
   "cell_type": "code",
   "execution_count": 89,
   "id": "9b51587b",
   "metadata": {},
   "outputs": [],
   "source": [
    "# Random Forest Classifier\n",
    "RFC = RandomForestClassifier()\n",
    "RFC.fit(X_train, y_train)\n",
    "\n",
    "RFC_train_pred = RFC.predict(X_train)\n",
    "RFC_test_pred = RFC.predict(X_test)"
   ]
  },
  {
   "cell_type": "code",
   "execution_count": 90,
   "id": "f01bf4b7",
   "metadata": {},
   "outputs": [],
   "source": [
    "RFC_train_accuracy_after_SMOTE = accuracy_score(y_train, RFC_train_pred) * 100\n",
    "RFC_test_accuracy_after_SMOTE = accuracy_score(y_test, RFC_test_pred) * 100"
   ]
  },
  {
   "cell_type": "code",
   "execution_count": 91,
   "id": "42b543a4",
   "metadata": {},
   "outputs": [
    {
     "name": "stdout",
     "output_type": "stream",
     "text": [
      "Random Forest Classifier (after SMOTE) Train Accuracy:  100.0\n",
      "Random Forest Classifier (after SMOTE) Accuracy Score:  87.38019169329073\n"
     ]
    }
   ],
   "source": [
    "print('Random Forest Classifier (after SMOTE) Train Accuracy: ', RFC_train_accuracy_after_SMOTE)\n",
    "print('Random Forest Classifier (after SMOTE) Accuracy Score: ', RFC_test_accuracy_after_SMOTE)"
   ]
  },
  {
   "cell_type": "code",
   "execution_count": 92,
   "id": "5de3a811",
   "metadata": {},
   "outputs": [
    {
     "name": "stdout",
     "output_type": "stream",
     "text": [
      "[[380   0   0   2   0   0   0]\n",
      " [  1 360   5   5   1   0   0]\n",
      " [  4  19 266  44   9   0   0]\n",
      " [  3   7  82 173  77  13   0]\n",
      " [  0   1   4  19 298  12   0]\n",
      " [  0   0   0   4   3 341   1]\n",
      " [  0   0   0   0   0   0 370]]\n"
     ]
    }
   ],
   "source": [
    "print(confusion_matrix(y_test, RFC_test_pred))"
   ]
  },
  {
   "cell_type": "code",
   "execution_count": 93,
   "id": "9b9987a8",
   "metadata": {},
   "outputs": [
    {
     "name": "stdout",
     "output_type": "stream",
     "text": [
      "              precision    recall  f1-score   support\n",
      "\n",
      "           3     0.9794    0.9948    0.9870       382\n",
      "           4     0.9302    0.9677    0.9486       372\n",
      "           5     0.7451    0.7778    0.7611       342\n",
      "           6     0.7004    0.4873    0.5748       355\n",
      "           7     0.7680    0.8922    0.8255       334\n",
      "           8     0.9317    0.9771    0.9538       349\n",
      "           9     0.9973    1.0000    0.9987       370\n",
      "\n",
      "    accuracy                         0.8738      2504\n",
      "   macro avg     0.8646    0.8710    0.8642      2504\n",
      "weighted avg     0.8683    0.8738    0.8676      2504\n",
      "\n"
     ]
    }
   ],
   "source": [
    "print(classification_report(y_test, RFC_test_pred, digits=4))"
   ]
  },
  {
   "cell_type": "markdown",
   "id": "9c65287c",
   "metadata": {},
   "source": [
    "### Precision"
   ]
  },
  {
   "cell_type": "code",
   "execution_count": 94,
   "id": "e04cb316",
   "metadata": {},
   "outputs": [],
   "source": [
    "RFC_precision_macro_after_SMOTE = round(precision_score(y_test , RFC_test_pred , average = 'macro')*100,2)\n",
    "RFC_precision_micro_after_SMOTE = round(precision_score(y_test , RFC_test_pred , average = 'micro')*100,2)\n",
    "RFC_precision_weighted_after_SMOTE = round(precision_score(y_test , RFC_test_pred , average = 'weighted')*100,2)"
   ]
  },
  {
   "cell_type": "code",
   "execution_count": 95,
   "id": "f28c10e4",
   "metadata": {},
   "outputs": [
    {
     "name": "stdout",
     "output_type": "stream",
     "text": [
      "Precision score of macro is:  86.46\n",
      "Precision score of micro is:  87.38\n",
      "Precision score of weighted is:  86.83\n"
     ]
    }
   ],
   "source": [
    "print('Precision score of macro is: ' , RFC_precision_macro_after_SMOTE)\n",
    "print('Precision score of micro is: ' , RFC_precision_micro_after_SMOTE)\n",
    "print('Precision score of weighted is: ' , RFC_precision_weighted_after_SMOTE)"
   ]
  },
  {
   "cell_type": "markdown",
   "id": "21cbfbb9",
   "metadata": {},
   "source": [
    "### Recall"
   ]
  },
  {
   "cell_type": "code",
   "execution_count": 96,
   "id": "afd738d0",
   "metadata": {},
   "outputs": [],
   "source": [
    "RFC_recall_macro_after_SMOTE = round(recall_score(y_test , RFC_test_pred , average = 'macro')*100,2)\n",
    "RFC_recall_micro_after_SMOTE = round(recall_score(y_test , RFC_test_pred , average = 'micro')*100,2)\n",
    "RFC_recall_weighted_after_SMOTE = round(recall_score(y_test , RFC_test_pred , average = 'weighted')*100,2)"
   ]
  },
  {
   "cell_type": "code",
   "execution_count": 97,
   "id": "a71dc4e0",
   "metadata": {},
   "outputs": [
    {
     "name": "stdout",
     "output_type": "stream",
     "text": [
      "recall_score score of macro is:  87.1\n",
      "recall_score score of micro is:  87.38\n",
      "recall_score score of weighted is:  87.38\n"
     ]
    }
   ],
   "source": [
    "print('recall_score score of macro is: ' , RFC_recall_macro_after_SMOTE)\n",
    "print('recall_score score of micro is: ' , RFC_recall_micro_after_SMOTE)\n",
    "print('recall_score score of weighted is: ' , RFC_recall_weighted_after_SMOTE)"
   ]
  },
  {
   "cell_type": "markdown",
   "id": "42b198d1",
   "metadata": {},
   "source": [
    "### F-1 Score"
   ]
  },
  {
   "cell_type": "code",
   "execution_count": 98,
   "id": "967d8369",
   "metadata": {},
   "outputs": [],
   "source": [
    "RFC_f_1_score_macro_after_SMOTE = round(f1_score(y_test , RFC_test_pred , average = 'macro')*100,2)\n",
    "RFC_f_1_score_micro_after_SMOTE = round(f1_score(y_test , RFC_test_pred , average = 'micro')*100,2)\n",
    "RFC_f_1_score_weighted_after_SMOTE = round(f1_score(y_test , RFC_test_pred , average = 'weighted')*100,2)"
   ]
  },
  {
   "cell_type": "code",
   "execution_count": 99,
   "id": "8fd542d5",
   "metadata": {},
   "outputs": [
    {
     "name": "stdout",
     "output_type": "stream",
     "text": [
      "f1_score score of macro is:  86.42\n",
      "f1_score score of micro is:  87.38\n",
      "f1_score score of weighted is:  86.76\n"
     ]
    }
   ],
   "source": [
    "print('f1_score score of macro is: ' , RFC_f_1_score_macro_after_SMOTE)\n",
    "print('f1_score score of micro is: ' , RFC_f_1_score_micro_after_SMOTE)\n",
    "print('f1_score score of weighted is: ' , RFC_f_1_score_weighted_after_SMOTE)"
   ]
  },
  {
   "cell_type": "markdown",
   "id": "15c44f97",
   "metadata": {},
   "source": [
    "## 3) Support Vector Classifier (SVC)"
   ]
  },
  {
   "cell_type": "code",
   "execution_count": 100,
   "id": "edaf9f47",
   "metadata": {},
   "outputs": [],
   "source": [
    "# Train Support Vector Classifier (SVC)\n",
    "svc_model.fit(X_train, y_train)\n",
    "\n",
    "svc_train_pred = svc_model.predict(X_train)\n",
    "svc_test_pred = svc_model.predict(X_test)"
   ]
  },
  {
   "cell_type": "code",
   "execution_count": 101,
   "id": "aeedd88c",
   "metadata": {},
   "outputs": [],
   "source": [
    "svc_train_accuracy_after_SMOTE = accuracy_score(y_train, svc_train_pred) * 100\n",
    "svc_test_accuracy_after_SMOTE = accuracy_score(y_test, svc_test_pred) * 100"
   ]
  },
  {
   "cell_type": "code",
   "execution_count": 102,
   "id": "235dc118",
   "metadata": {
    "scrolled": true
   },
   "outputs": [
    {
     "name": "stdout",
     "output_type": "stream",
     "text": [
      "Support Vector Classifier (after SMOTE) Train Accuracy:  76.14862165401519\n",
      "Support Vector Classifier (after SMOTE) Accuracy Score:  74.76038338658148\n"
     ]
    }
   ],
   "source": [
    "print('Support Vector Classifier (after SMOTE) Train Accuracy: ', svc_train_accuracy_after_SMOTE)\n",
    "print('Support Vector Classifier (after SMOTE) Accuracy Score: ', svc_test_accuracy_after_SMOTE)"
   ]
  },
  {
   "cell_type": "code",
   "execution_count": 103,
   "id": "bd4928a2",
   "metadata": {},
   "outputs": [
    {
     "name": "stdout",
     "output_type": "stream",
     "text": [
      "[[379   1   0   2   0   0   0]\n",
      " [  6 321  23  16   6   0   0]\n",
      " [ 11  41 217  49  18   6   0]\n",
      " [ 10  23  76 125  91  29   1]\n",
      " [  2   2  23  39 186  82   0]\n",
      " [  0   4   2  14  55 274   0]\n",
      " [  0   0   0   0   0   0 370]]\n"
     ]
    }
   ],
   "source": [
    "print(confusion_matrix(y_test, svc_test_pred))"
   ]
  },
  {
   "cell_type": "code",
   "execution_count": 104,
   "id": "3ed8b86d",
   "metadata": {},
   "outputs": [
    {
     "name": "stdout",
     "output_type": "stream",
     "text": [
      "              precision    recall  f1-score   support\n",
      "\n",
      "           3     0.9289    0.9921    0.9595       382\n",
      "           4     0.8189    0.8629    0.8403       372\n",
      "           5     0.6364    0.6345    0.6354       342\n",
      "           6     0.5102    0.3521    0.4167       355\n",
      "           7     0.5225    0.5569    0.5391       334\n",
      "           8     0.7008    0.7851    0.7405       349\n",
      "           9     0.9973    1.0000    0.9987       370\n",
      "\n",
      "    accuracy                         0.7476      2504\n",
      "   macro avg     0.7307    0.7405    0.7329      2504\n",
      "weighted avg     0.7373    0.7476    0.7398      2504\n",
      "\n"
     ]
    }
   ],
   "source": [
    "print(classification_report(y_test, svc_test_pred, digits=4))"
   ]
  },
  {
   "cell_type": "markdown",
   "id": "a7bb7e11",
   "metadata": {},
   "source": [
    "### Precision"
   ]
  },
  {
   "cell_type": "code",
   "execution_count": 105,
   "id": "36b8446a",
   "metadata": {},
   "outputs": [],
   "source": [
    "svc_precision_macro_after_SMOTE = round(precision_score(y_test , svc_test_pred , average = 'macro')*100,2)\n",
    "svc_precision_micro_after_SMOTE = round(precision_score(y_test , svc_test_pred , average = 'micro')*100,2)\n",
    "svc_precision_weighted_after_SMOTE = round(precision_score(y_test , svc_test_pred , average = 'weighted')*100,2)"
   ]
  },
  {
   "cell_type": "code",
   "execution_count": 106,
   "id": "2f12ba17",
   "metadata": {},
   "outputs": [
    {
     "name": "stdout",
     "output_type": "stream",
     "text": [
      "Precision score of macro is:  73.07\n",
      "Precision score of micro is:  74.76\n",
      "Precision score of weighted is:  73.73\n"
     ]
    }
   ],
   "source": [
    "print('Precision score of macro is: ' , svc_precision_macro_after_SMOTE)\n",
    "print('Precision score of micro is: ' , svc_precision_micro_after_SMOTE)\n",
    "print('Precision score of weighted is: ' , svc_precision_weighted_after_SMOTE)"
   ]
  },
  {
   "cell_type": "markdown",
   "id": "da4923da",
   "metadata": {},
   "source": [
    "### Recall"
   ]
  },
  {
   "cell_type": "code",
   "execution_count": 107,
   "id": "79444259",
   "metadata": {},
   "outputs": [],
   "source": [
    "svc_recall_macro_after_SMOTE = round(recall_score(y_test , svc_test_pred , average = 'macro')*100,2)\n",
    "svc_recall_micro_after_SMOTE = round(recall_score(y_test , svc_test_pred , average = 'micro')*100,2)\n",
    "svc_recall_weighted_after_SMOTE = round(recall_score(y_test , svc_test_pred , average = 'weighted')*100,2)"
   ]
  },
  {
   "cell_type": "code",
   "execution_count": 108,
   "id": "606f3c41",
   "metadata": {},
   "outputs": [
    {
     "name": "stdout",
     "output_type": "stream",
     "text": [
      "recall_score score of macro is:  74.05\n",
      "recall_score score of micro is:  74.76\n",
      "recall_score score of weighted is:  74.76\n"
     ]
    }
   ],
   "source": [
    "print('recall_score score of macro is: ' , svc_recall_macro_after_SMOTE)\n",
    "print('recall_score score of micro is: ' , svc_recall_micro_after_SMOTE)\n",
    "print('recall_score score of weighted is: ' , svc_recall_weighted_after_SMOTE)"
   ]
  },
  {
   "cell_type": "markdown",
   "id": "8504017e",
   "metadata": {},
   "source": [
    "### F-1 Score"
   ]
  },
  {
   "cell_type": "code",
   "execution_count": 109,
   "id": "af20f35e",
   "metadata": {},
   "outputs": [],
   "source": [
    "svc_f_1_score_macro_after_SMOTE = round(f1_score(y_test , svc_test_pred , average = 'macro')*100,2)\n",
    "svc_f_1_score_micro_after_SMOTE = round(f1_score(y_test , svc_test_pred , average = 'micro')*100,2)\n",
    "svc_f_1_score_weighted_after_SMOTE = round(f1_score(y_test , svc_test_pred , average = 'weighted')*100,2)"
   ]
  },
  {
   "cell_type": "code",
   "execution_count": 110,
   "id": "e5b2cc12",
   "metadata": {},
   "outputs": [
    {
     "name": "stdout",
     "output_type": "stream",
     "text": [
      "f1_score score of macro is:  73.29\n",
      "f1_score score of micro is:  74.76\n",
      "f1_score score of weighted is:  73.98\n"
     ]
    }
   ],
   "source": [
    "print('f1_score score of macro is: ' , svc_f_1_score_macro_after_SMOTE)\n",
    "print('f1_score score of micro is: ' , svc_f_1_score_micro_after_SMOTE)\n",
    "print('f1_score score of weighted is: ' , svc_f_1_score_weighted_after_SMOTE)"
   ]
  },
  {
   "cell_type": "markdown",
   "id": "dcc12ff0",
   "metadata": {},
   "source": [
    "## Table "
   ]
  },
  {
   "cell_type": "code",
   "execution_count": 111,
   "id": "3f359447",
   "metadata": {},
   "outputs": [],
   "source": [
    "# Load the dataset\n",
    "table = pd.read_excel('/Users/sarthaksangwan/Desktop/data mining project/Conclusion_winequality.xls')"
   ]
  },
  {
   "cell_type": "code",
   "execution_count": 112,
   "id": "37a02b87",
   "metadata": {},
   "outputs": [],
   "source": [
    "# Create a dictionary with the data\n",
    "data_DTC_after_SMOTE = {'Model': 'DTC',\n",
    "        'Train Score': dt_train_accuracy_after_SMOTE,\n",
    "        'Test Score': dt_test_accuracy_after_SMOTE,\n",
    "        'Precision_Macro': dt_precision_macro_after_SMOTE,\n",
    "        'Precision_Micro': dt_precision_micro_after_SMOTE,\n",
    "        'Recall_Macro': dt_recall_macro_after_SMOTE,\n",
    "        'Recall_Micro': dt_recall_micro_after_SMOTE,\n",
    "        'F1_Score_Macro': dt_f_1_score_macro_after_SMOTE,\n",
    "        'F1_Score_Micro': dt_f_1_score_micro_after_SMOTE}\n",
    "\n",
    "# Append the data to the dataframe\n",
    "table = table.append(data_DTC_after_SMOTE, ignore_index=True)"
   ]
  },
  {
   "cell_type": "code",
   "execution_count": 113,
   "id": "609aecb9",
   "metadata": {},
   "outputs": [],
   "source": [
    "# Create a dictionary with the data\n",
    "data_RFC_after_SMOTE = {'Model': 'RFC',\n",
    "        'Train Score': RFC_train_accuracy_after_SMOTE,\n",
    "        'Test Score': RFC_test_accuracy_after_SMOTE,\n",
    "        'Precision_Macro': RFC_precision_macro_after_SMOTE,\n",
    "        'Precision_Micro': RFC_precision_micro_after_SMOTE,\n",
    "        'Recall_Macro': RFC_recall_macro_after_SMOTE,\n",
    "        'Recall_Micro': RFC_recall_micro_after_SMOTE,\n",
    "        'F1_Score_Macro': RFC_f_1_score_macro_after_SMOTE,\n",
    "        'F1_Score_Micro': RFC_f_1_score_micro_after_SMOTE}\n",
    "\n",
    "# Append the data to the dataframe\n",
    "table = table.append(data_RFC_after_SMOTE, ignore_index=True)"
   ]
  },
  {
   "cell_type": "code",
   "execution_count": 114,
   "id": "ec93ba96",
   "metadata": {},
   "outputs": [],
   "source": [
    "# Create a dictionary with the data\n",
    "data_SVC_after_SMOTE = {'Model': 'SVC',\n",
    "        'Train Score': svc_train_accuracy_after_SMOTE,\n",
    "        'Test Score': svc_test_accuracy_after_SMOTE,\n",
    "        'Precision_Macro': svc_precision_macro_after_SMOTE,\n",
    "        'Precision_Micro': svc_precision_micro_after_SMOTE,\n",
    "        'Recall_Macro': svc_recall_macro_after_SMOTE,\n",
    "        'Recall_Micro': svc_recall_micro_after_SMOTE,\n",
    "        'F1_Score_Macro': svc_f_1_score_macro_after_SMOTE,\n",
    "        'F1_Score_Micro': svc_f_1_score_micro_after_SMOTE}\n",
    "\n",
    "# Append the data to the dataframe\n",
    "table = table.append(data_SVC_after_SMOTE, ignore_index=True)\n",
    "\n",
    "# Drop pr-existing rows\n",
    "table = table.drop([0,1,2])\n",
    "\n",
    "# Rename the index from 3, 4, 5 to 0, 1, 2\n",
    "table2 = table.rename(index={3: 0, 4: 1, 5: 2})"
   ]
  },
  {
   "cell_type": "code",
   "execution_count": 115,
   "id": "900578cb",
   "metadata": {},
   "outputs": [
    {
     "data": {
      "text/html": [
       "<div>\n",
       "<style scoped>\n",
       "    .dataframe tbody tr th:only-of-type {\n",
       "        vertical-align: middle;\n",
       "    }\n",
       "\n",
       "    .dataframe tbody tr th {\n",
       "        vertical-align: top;\n",
       "    }\n",
       "\n",
       "    .dataframe thead th {\n",
       "        text-align: right;\n",
       "    }\n",
       "</style>\n",
       "<table border=\"1\" class=\"dataframe\">\n",
       "  <thead>\n",
       "    <tr style=\"text-align: right;\">\n",
       "      <th></th>\n",
       "      <th>Model</th>\n",
       "      <th>Train Score</th>\n",
       "      <th>Test Score</th>\n",
       "      <th>Precision_Macro</th>\n",
       "      <th>Precision_Micro</th>\n",
       "      <th>Recall_Macro</th>\n",
       "      <th>Recall_Micro</th>\n",
       "      <th>F1_Score_Macro</th>\n",
       "      <th>F1_Score_Micro</th>\n",
       "    </tr>\n",
       "  </thead>\n",
       "  <tbody>\n",
       "    <tr>\n",
       "      <th>0</th>\n",
       "      <td>DTC</td>\n",
       "      <td>100.000000</td>\n",
       "      <td>78.753994</td>\n",
       "      <td>77.75</td>\n",
       "      <td>78.75</td>\n",
       "      <td>78.25</td>\n",
       "      <td>78.75</td>\n",
       "      <td>77.92</td>\n",
       "      <td>78.75</td>\n",
       "    </tr>\n",
       "    <tr>\n",
       "      <th>1</th>\n",
       "      <td>RFC</td>\n",
       "      <td>100.000000</td>\n",
       "      <td>87.380192</td>\n",
       "      <td>86.46</td>\n",
       "      <td>87.38</td>\n",
       "      <td>87.10</td>\n",
       "      <td>87.38</td>\n",
       "      <td>86.42</td>\n",
       "      <td>87.38</td>\n",
       "    </tr>\n",
       "    <tr>\n",
       "      <th>2</th>\n",
       "      <td>SVC</td>\n",
       "      <td>76.148622</td>\n",
       "      <td>74.760383</td>\n",
       "      <td>73.07</td>\n",
       "      <td>74.76</td>\n",
       "      <td>74.05</td>\n",
       "      <td>74.76</td>\n",
       "      <td>73.29</td>\n",
       "      <td>74.76</td>\n",
       "    </tr>\n",
       "  </tbody>\n",
       "</table>\n",
       "</div>"
      ],
      "text/plain": [
       "  Model  Train Score  Test Score  Precision_Macro  Precision_Micro  \\\n",
       "0   DTC   100.000000   78.753994            77.75            78.75   \n",
       "1   RFC   100.000000   87.380192            86.46            87.38   \n",
       "2   SVC    76.148622   74.760383            73.07            74.76   \n",
       "\n",
       "   Recall_Macro  Recall_Micro  F1_Score_Macro  F1_Score_Micro  \n",
       "0         78.25         78.75           77.92           78.75  \n",
       "1         87.10         87.38           86.42           87.38  \n",
       "2         74.05         74.76           73.29           74.76  "
      ]
     },
     "execution_count": 115,
     "metadata": {},
     "output_type": "execute_result"
    }
   ],
   "source": [
    "table2"
   ]
  }
 ],
 "metadata": {
  "kernelspec": {
   "display_name": "Python 3 (ipykernel)",
   "language": "python",
   "name": "python3"
  },
  "language_info": {
   "codemirror_mode": {
    "name": "ipython",
    "version": 3
   },
   "file_extension": ".py",
   "mimetype": "text/x-python",
   "name": "python",
   "nbconvert_exporter": "python",
   "pygments_lexer": "ipython3",
   "version": "3.9.12"
  }
 },
 "nbformat": 4,
 "nbformat_minor": 5
}
